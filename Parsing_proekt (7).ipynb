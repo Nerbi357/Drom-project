{
  "nbformat": 4,
  "nbformat_minor": 0,
  "metadata": {
    "colab": {
      "provenance": []
    },
    "kernelspec": {
      "name": "python3",
      "display_name": "Python 3"
    },
    "language_info": {
      "name": "python"
    }
  },
  "cells": [
    {
      "cell_type": "code",
      "source": [
        "pip install fake_useragent"
      ],
      "metadata": {
        "id": "rKW197weuMFG",
        "colab": {
          "base_uri": "https://localhost:8080/"
        },
        "outputId": "d4f2906d-61fd-4e61-939a-258fe15c8458"
      },
      "execution_count": null,
      "outputs": [
        {
          "output_type": "stream",
          "name": "stdout",
          "text": [
            "Requirement already satisfied: fake_useragent in /usr/local/lib/python3.10/dist-packages (1.5.1)\n"
          ]
        }
      ]
    },
    {
      "cell_type": "code",
      "source": [
        "\n",
        "import numpy as np\n",
        "import pandas as pd\n",
        "import gdown\n",
        "import requests\n",
        "import time\n",
        "from fake_useragent import UserAgent\n",
        "from bs4 import BeautifulSoup\n",
        "from tqdm import tqdm\n"
      ],
      "metadata": {
        "id": "Q70Zkemuww2E"
      },
      "execution_count": null,
      "outputs": []
    },
    {
      "cell_type": "code",
      "source": [
        "import requests\n",
        "from bs4 import BeautifulSoup\n",
        "from multiprocessing import Pool\n",
        "\n",
        "# Function to scrape data from a single URL\n",
        "def scrape_url(url):\n",
        "\n",
        "  response2 = requests.get(url, headers={'User-Agent': UserAgent().chrome})\n",
        "  html2 = response2.content\n",
        "  soup2 = BeautifulSoup(html2,'html')\n",
        "\n",
        "  row = pd.read_html(url)[0].T\n",
        "  row.columns = row[0:1].values[0]\n",
        "  row = row[1:]\n",
        "  row['Название'] = soup2.find(class_='css-1kb7l9z e162wx9x0').text\n",
        "  if soup2.find(class_='css-uewl2b e93r9u20') is None:\n",
        "    row['Цена'] = soup2.find(class_='css-eazmxc e162wx9x0').text\n",
        "  elif soup2.find(class_='css-uewl2b e93r9u20').text == '':\n",
        "    row['Цена'] = soup2.find(class_='css-eazmxc e162wx9x0').text\n",
        "  else:\n",
        "    row['Цена'] = soup2.find(class_='css-uewl2b e93r9u20').text\n",
        "\n",
        "  if len(soup2.find_all(class_='css-13qo6o5 eawu4md1')) != 0 :\n",
        "    for i in range(2):\n",
        "      row[f'{i}'] = soup2.find_all(class_='css-13qo6o5 eawu4md1')[i].text\n",
        "\n",
        "  if len(soup2.find_all(class_='css-13qo6o5 e1mhp2ux0')) != 0 :\n",
        "    for i in range(0, 5):\n",
        "      row[f'{i + 2}'] = soup2.find_all(class_='css-13qo6o5 e1mhp2ux0')[i].text\n",
        "\n",
        "  row['Ссылка'] = url\n",
        "\n",
        "  row = row.drop('.css-1r93onv{position:absolute;width:100%;left:0;}', axis = 1)\n",
        "  return row\n"
      ],
      "metadata": {
        "id": "sv4GWKwouKLW"
      },
      "execution_count": null,
      "outputs": []
    },
    {
      "cell_type": "code",
      "source": [
        "from tqdm import tqdm\n",
        "import time"
      ],
      "metadata": {
        "id": "m7-0tskv9t9h"
      },
      "execution_count": null,
      "outputs": []
    },
    {
      "cell_type": "code",
      "source": [
        "table = pd.read_csv('table_proekt_5.csv')"
      ],
      "metadata": {
        "id": "qBLo2zMxByUB"
      },
      "execution_count": null,
      "outputs": []
    },
    {
      "cell_type": "code",
      "source": [
        "errors = []"
      ],
      "metadata": {
        "id": "IGI_PtlT-te_"
      },
      "execution_count": null,
      "outputs": []
    },
    {
      "cell_type": "code",
      "source": [
        "for p in tqdm([3, 26]\n",
        "):\n",
        "  try:\n",
        "    response = requests.get(f'https://moscow.drom.ru/lada/used/all/page{p}/?unsold=1', headers={'User-Agent': UserAgent().chrome})\n",
        "    html = response.content\n",
        "    soup = BeautifulSoup(html,'html')\n",
        "    links = []\n",
        "    for i in soup.find_all('a', class_='css-4zflqt e1huvdhj1'):\n",
        "      links.append(i.get('href'))\n",
        "    if len(links) == 0:\n",
        "      errors.append(p)\n",
        "      continue\n",
        "\n",
        "    table_add = pd.DataFrame()\n",
        "    for l in links:\n",
        "      print(l)\n",
        "      table_add = pd.concat([table_add, scrape_url(l)])\n",
        "    if len(table_add) == 20:\n",
        "      table = pd.concat([table, table_add])\n",
        "    else:\n",
        "      errors.append(p)\n",
        "  except:\n",
        "    errors.append(p)\n"
      ],
      "metadata": {
        "colab": {
          "base_uri": "https://localhost:8080/"
        },
        "id": "zSVYRhE9Jtol",
        "outputId": "eafe8d9a-ceed-4591-bb33-646fac9994d8"
      },
      "execution_count": null,
      "outputs": [
        {
          "output_type": "stream",
          "name": "stderr",
          "text": [
            "\r  0%|          | 0/2 [00:00<?, ?it/s]"
          ]
        },
        {
          "output_type": "stream",
          "name": "stdout",
          "text": [
            "https://auto.drom.ru/moscow/lada/2121_4x4_niva/819265187.html\n",
            "https://auto.drom.ru/moscow/lada/vesta_cross/788044875.html\n",
            "https://auto.drom.ru/moscow/lada/2101/673673810.html\n",
            "https://auto.drom.ru/moscow/lada/21099/620142000.html\n",
            "https://auto.drom.ru/moscow/lada/2107/614696323.html\n",
            "https://auto.drom.ru/moscow/lada/largus/601341714.html\n",
            "https://auto.drom.ru/moscow/lada/granta/532469838.html\n",
            "https://auto.drom.ru/moscow/lada/largus/499535814.html\n",
            "https://auto.drom.ru/moscow/lada/niva_legend/489510513.html\n",
            "https://auto.drom.ru/moscow/lada/priora/427573507.html\n",
            "https://auto.drom.ru/moscow/lada/2131_4x4_niva/409106341.html\n",
            "https://auto.drom.ru/moscow/lada/vesta/367531441.html\n",
            "https://auto.drom.ru/moscow/lada/2131_4x4_niva/312529544.html\n",
            "https://auto.drom.ru/moscow/lada/2114/190848583.html\n",
            "https://auto.drom.ru/moscow/lada/2115/175101202.html\n",
            "https://auto.drom.ru/moscow/lada/2106/148676014.html\n",
            "https://auto.drom.ru/moscow/lada/largus/105232131.html\n",
            "https://auto.drom.ru/moscow/lada/2101/54154909.html\n"
          ]
        },
        {
          "output_type": "stream",
          "name": "stderr",
          "text": [
            "\r 50%|█████     | 1/2 [00:55<00:55, 55.67s/it]"
          ]
        },
        {
          "output_type": "stream",
          "name": "stdout",
          "text": [
            "https://auto.drom.ru/moscow/lada/granta/800985045.html\n",
            "https://auto.drom.ru/moscow/lada/2107/782036766.html\n",
            "https://auto.drom.ru/moscow/lada/vesta/735960960.html\n",
            "https://auto.drom.ru/moscow/lada/granta/714485290.html\n",
            "https://auto.drom.ru/moscow/lada/granta/697252895.html\n",
            "https://auto.drom.ru/moscow/lada/priora/651216496.html\n",
            "https://auto.drom.ru/moscow/lada/granta/649315229.html\n",
            "https://auto.drom.ru/moscow/lada/niva_travel/629110315.html\n",
            "https://auto.drom.ru/moscow/lada/kalina/606413859.html\n",
            "https://auto.drom.ru/moscow/lada/niva_legend/606080621.html\n",
            "https://auto.drom.ru/moscow/lada/2112/387500106.html\n",
            "https://auto.drom.ru/moscow/lada/granta/342851781.html\n",
            "https://auto.drom.ru/moscow/lada/2121_4x4_niva/299227257.html\n",
            "https://auto.drom.ru/moscow/lada/vesta_cross/281789280.html\n",
            "https://auto.drom.ru/moscow/lada/priora/268769676.html\n",
            "https://auto.drom.ru/moscow/lada/2107/126223778.html\n",
            "https://auto.drom.ru/moscow/lada/granta/104925286.html\n",
            "https://auto.drom.ru/moscow/lada/2101/54067420.html\n"
          ]
        },
        {
          "output_type": "stream",
          "name": "stderr",
          "text": [
            "100%|██████████| 2/2 [01:52<00:00, 56.49s/it]\n"
          ]
        }
      ]
    },
    {
      "cell_type": "code",
      "source": [
        "table"
      ],
      "metadata": {
        "id": "bS3JCmAkCTRT",
        "colab": {
          "base_uri": "https://localhost:8080/",
          "height": 1000
        },
        "outputId": "87913965-3ea7-42fc-cc2b-1902b392f2fe"
      },
      "execution_count": null,
      "outputs": [
        {
          "output_type": "execute_result",
          "data": {
            "text/plain": [
              "      Unnamed: 0.4  Unnamed: 0.3  Unnamed: 0.2  Unnamed: 0.1  Unnamed: 0  \\\n",
              "0                0           0.0           0.0           0.0         1.0   \n",
              "1                1           1.0           1.0           1.0         1.0   \n",
              "2                2           2.0           2.0           2.0         1.0   \n",
              "3                3           3.0           3.0           3.0         1.0   \n",
              "4                4           4.0           4.0           4.0         1.0   \n",
              "...            ...           ...           ...           ...         ...   \n",
              "1275             1           NaN           NaN           NaN         NaN   \n",
              "1276             1           NaN           NaN           NaN         NaN   \n",
              "1277             1           NaN           NaN           NaN         NaN   \n",
              "1278             1           NaN           NaN           NaN         NaN   \n",
              "1279             1           NaN           NaN           NaN         NaN   \n",
              "\n",
              "                                              Двигатель  \\\n",
              "0     .css-19ug521{margin-top:6px;}.css-1jygg09{line...   \n",
              "1     .css-19ug521{margin-top:6px;}.css-1jygg09{line...   \n",
              "2     .css-19ug521{margin-top:6px;}.css-1jygg09{line...   \n",
              "3     .css-19ug521{margin-top:6px;}.css-1jygg09{line...   \n",
              "4     .css-19ug521{margin-top:6px;}.css-1jygg09{line...   \n",
              "...                                                 ...   \n",
              "1275  .css-19ug521{margin-top:6px;}.css-1jygg09{line...   \n",
              "1276  .css-19ug521{margin-top:6px;}.css-1jygg09{line...   \n",
              "1277  .css-19ug521{margin-top:6px;}.css-1jygg09{line...   \n",
              "1278  .css-19ug521{margin-top:6px;}.css-1jygg09{line...   \n",
              "1279  .css-19ug521{margin-top:6px;}.css-1jygg09{line...   \n",
              "\n",
              "                                           Мощность Коробка передач    Привод  \\\n",
              "0     .css-9g0qum{line-height:1.55;}122 л.с., налог        механика  передний   \n",
              "1     .css-9g0qum{line-height:1.55;}122 л.с., налог           робот  передний   \n",
              "2      .css-9g0qum{line-height:1.55;}90 л.с., налог        механика  передний   \n",
              "3      .css-9g0qum{line-height:1.55;}83 л.с., налог        механика       4WD   \n",
              "4     .css-9g0qum{line-height:1.55;}122 л.с., налог           робот  передний   \n",
              "...                                             ...             ...       ...   \n",
              "1275   .css-9g0qum{line-height:1.55;}87 л.с., налог        механика  передний   \n",
              "1276   .css-9g0qum{line-height:1.55;}87 л.с., налог        механика  передний   \n",
              "1277  .css-9g0qum{line-height:1.55;}106 л.с., налог        механика  передний   \n",
              "1278   .css-9g0qum{line-height:1.55;}78 л.с., налог        механика  передний   \n",
              "1279   .css-9g0qum{line-height:1.55;}98 л.с., налог        механика  передний   \n",
              "\n",
              "     Тип кузова  ...                               0                       1  \\\n",
              "0     универсал  ...  Характеристики совпадают с ПТС  1 запись о регистрации   \n",
              "1     универсал  ...  Характеристики совпадают с ПТС  1 запись о регистрации   \n",
              "2         седан  ...  Характеристики совпадают с ПТС  1 запись о регистрации   \n",
              "3           NaN  ...  Характеристики совпадают с ПТС  2 записи о регистрации   \n",
              "4     универсал  ...       Модель не совпадает с ПТС  2 записи о регистрации   \n",
              "...         ...  ...                             ...                     ...   \n",
              "1275    лифтбек  ...  Характеристики совпадают с ПТС  2 записи о регистрации   \n",
              "1276      седан  ...  Характеристики совпадают с ПТС  1 запись о регистрации   \n",
              "1277      седан  ...  Характеристики совпадают с ПТС  1 запись о регистрации   \n",
              "1278        NaN  ...  Характеристики совпадают с ПТС  2 записи о регистрации   \n",
              "1279      седан  ...         Цвет не совпадает с ПТС  1 запись о регистрации   \n",
              "\n",
              "                              2                              3  \\\n",
              "0        Стоит на учете в ГИБДД  Не был во владении у юр. лица   \n",
              "1        Стоит на учете в ГИБДД  Не был во владении у юр. лица   \n",
              "2        Стоит на учете в ГИБДД  Не был во владении у юр. лица   \n",
              "3        Стоит на учете в ГИБДД  Не был во владении у юр. лица   \n",
              "4     Не стоит на учете в ГИБДД     Был во владении у юр. лица   \n",
              "...                         ...                            ...   \n",
              "1275     Стоит на учете в ГИБДД  Не был во владении у юр. лица   \n",
              "1276     Стоит на учете в ГИБДД  Не был во владении у юр. лица   \n",
              "1277  Не стоит на учете в ГИБДД  Не был во владении у юр. лица   \n",
              "1278     Стоит на учете в ГИБДД  Не был во владении у юр. лица   \n",
              "1279  Не стоит на учете в ГИБДД  Не был во владении у юр. лица   \n",
              "\n",
              "                                               4                      5  \\\n",
              "0         Последний период владения больше 5 лет  Не числится в розыске   \n",
              "1         Последний период владения больше 4 лет  Не числится в розыске   \n",
              "2     Последний период владения больше 6 месяцев  Не числится в розыске   \n",
              "3         Последний период владения больше 4 лет  Не числится в розыске   \n",
              "4         Последний период владения больше 2 лет  Не числится в розыске   \n",
              "...                                          ...                    ...   \n",
              "1275      Последний период владения больше 3 лет  Не числится в розыске   \n",
              "1276      Последний период владения больше 2 лет  Не числится в розыске   \n",
              "1277  Последний период владения меньше 6 месяцев  Не числится в розыске   \n",
              "1278     Последний период владения больше 1 года  Не числится в розыске   \n",
              "1279     Последний период владения больше 12 лет  Не числится в розыске   \n",
              "\n",
              "                              6  \\\n",
              "0     Ограничений не обнаружено   \n",
              "1     Ограничений не обнаружено   \n",
              "2     Ограничений не обнаружено   \n",
              "3     Ограничений не обнаружено   \n",
              "4     Ограничений не обнаружено   \n",
              "...                         ...   \n",
              "1275  Ограничений не обнаружено   \n",
              "1276  Ограничений не обнаружено   \n",
              "1277  Ограничений не обнаружено   \n",
              "1278  Ограничений не обнаружено   \n",
              "1279  Ограничений не обнаружено   \n",
              "\n",
              "                                                 Ссылка  \\\n",
              "0     https://auto.drom.ru/moscow/lada/vesta_cross/5...   \n",
              "1     https://auto.drom.ru/moscow/lada/vesta/2447192...   \n",
              "2     https://auto.drom.ru/moscow/lada/granta/290328...   \n",
              "3     https://auto.drom.ru/moscow/lada/2121_4x4_niva...   \n",
              "4     https://auto.drom.ru/moscow/lada/vesta_cross/9...   \n",
              "...                                                 ...   \n",
              "1275  https://auto.drom.ru/moscow/lada/granta/349093...   \n",
              "1276  https://auto.drom.ru/moscow/lada/granta/588200...   \n",
              "1277  https://auto.drom.ru/moscow/lada/vesta/2393319...   \n",
              "1278  https://auto.drom.ru/moscow/lada/21099/7020967...   \n",
              "1279  https://auto.drom.ru/moscow/lada/priora/441343...   \n",
              "\n",
              "                  Комплектация Особые отметки  \n",
              "0                          NaN            NaN  \n",
              "1                          NaN            NaN  \n",
              "2                          NaN            NaN  \n",
              "3                          NaN            NaN  \n",
              "4                          NaN            NaN  \n",
              "...                        ...            ...  \n",
              "1275                       NaN            NaN  \n",
              "1276                       NaN            NaN  \n",
              "1277                       NaN            NaN  \n",
              "1278                       NaN            NaN  \n",
              "1279  1.6 MT Люкс 21703-03-031            NaN  \n",
              "\n",
              "[1280 rows x 26 columns]"
            ],
            "text/html": [
              "\n",
              "  <div id=\"df-0d610d88-a167-4277-b049-fae4afd13973\" class=\"colab-df-container\">\n",
              "    <div>\n",
              "<style scoped>\n",
              "    .dataframe tbody tr th:only-of-type {\n",
              "        vertical-align: middle;\n",
              "    }\n",
              "\n",
              "    .dataframe tbody tr th {\n",
              "        vertical-align: top;\n",
              "    }\n",
              "\n",
              "    .dataframe thead th {\n",
              "        text-align: right;\n",
              "    }\n",
              "</style>\n",
              "<table border=\"1\" class=\"dataframe\">\n",
              "  <thead>\n",
              "    <tr style=\"text-align: right;\">\n",
              "      <th></th>\n",
              "      <th>Unnamed: 0.4</th>\n",
              "      <th>Unnamed: 0.3</th>\n",
              "      <th>Unnamed: 0.2</th>\n",
              "      <th>Unnamed: 0.1</th>\n",
              "      <th>Unnamed: 0</th>\n",
              "      <th>Двигатель</th>\n",
              "      <th>Мощность</th>\n",
              "      <th>Коробка передач</th>\n",
              "      <th>Привод</th>\n",
              "      <th>Тип кузова</th>\n",
              "      <th>...</th>\n",
              "      <th>0</th>\n",
              "      <th>1</th>\n",
              "      <th>2</th>\n",
              "      <th>3</th>\n",
              "      <th>4</th>\n",
              "      <th>5</th>\n",
              "      <th>6</th>\n",
              "      <th>Ссылка</th>\n",
              "      <th>Комплектация</th>\n",
              "      <th>Особые отметки</th>\n",
              "    </tr>\n",
              "  </thead>\n",
              "  <tbody>\n",
              "    <tr>\n",
              "      <th>0</th>\n",
              "      <td>0</td>\n",
              "      <td>0.0</td>\n",
              "      <td>0.0</td>\n",
              "      <td>0.0</td>\n",
              "      <td>1.0</td>\n",
              "      <td>.css-19ug521{margin-top:6px;}.css-1jygg09{line...</td>\n",
              "      <td>.css-9g0qum{line-height:1.55;}122 л.с., налог</td>\n",
              "      <td>механика</td>\n",
              "      <td>передний</td>\n",
              "      <td>универсал</td>\n",
              "      <td>...</td>\n",
              "      <td>Характеристики совпадают с ПТС</td>\n",
              "      <td>1 запись о регистрации</td>\n",
              "      <td>Стоит на учете в ГИБДД</td>\n",
              "      <td>Не был во владении у юр. лица</td>\n",
              "      <td>Последний период владения больше 5 лет</td>\n",
              "      <td>Не числится в розыске</td>\n",
              "      <td>Ограничений не обнаружено</td>\n",
              "      <td>https://auto.drom.ru/moscow/lada/vesta_cross/5...</td>\n",
              "      <td>NaN</td>\n",
              "      <td>NaN</td>\n",
              "    </tr>\n",
              "    <tr>\n",
              "      <th>1</th>\n",
              "      <td>1</td>\n",
              "      <td>1.0</td>\n",
              "      <td>1.0</td>\n",
              "      <td>1.0</td>\n",
              "      <td>1.0</td>\n",
              "      <td>.css-19ug521{margin-top:6px;}.css-1jygg09{line...</td>\n",
              "      <td>.css-9g0qum{line-height:1.55;}122 л.с., налог</td>\n",
              "      <td>робот</td>\n",
              "      <td>передний</td>\n",
              "      <td>универсал</td>\n",
              "      <td>...</td>\n",
              "      <td>Характеристики совпадают с ПТС</td>\n",
              "      <td>1 запись о регистрации</td>\n",
              "      <td>Стоит на учете в ГИБДД</td>\n",
              "      <td>Не был во владении у юр. лица</td>\n",
              "      <td>Последний период владения больше 4 лет</td>\n",
              "      <td>Не числится в розыске</td>\n",
              "      <td>Ограничений не обнаружено</td>\n",
              "      <td>https://auto.drom.ru/moscow/lada/vesta/2447192...</td>\n",
              "      <td>NaN</td>\n",
              "      <td>NaN</td>\n",
              "    </tr>\n",
              "    <tr>\n",
              "      <th>2</th>\n",
              "      <td>2</td>\n",
              "      <td>2.0</td>\n",
              "      <td>2.0</td>\n",
              "      <td>2.0</td>\n",
              "      <td>1.0</td>\n",
              "      <td>.css-19ug521{margin-top:6px;}.css-1jygg09{line...</td>\n",
              "      <td>.css-9g0qum{line-height:1.55;}90 л.с., налог</td>\n",
              "      <td>механика</td>\n",
              "      <td>передний</td>\n",
              "      <td>седан</td>\n",
              "      <td>...</td>\n",
              "      <td>Характеристики совпадают с ПТС</td>\n",
              "      <td>1 запись о регистрации</td>\n",
              "      <td>Стоит на учете в ГИБДД</td>\n",
              "      <td>Не был во владении у юр. лица</td>\n",
              "      <td>Последний период владения больше 6 месяцев</td>\n",
              "      <td>Не числится в розыске</td>\n",
              "      <td>Ограничений не обнаружено</td>\n",
              "      <td>https://auto.drom.ru/moscow/lada/granta/290328...</td>\n",
              "      <td>NaN</td>\n",
              "      <td>NaN</td>\n",
              "    </tr>\n",
              "    <tr>\n",
              "      <th>3</th>\n",
              "      <td>3</td>\n",
              "      <td>3.0</td>\n",
              "      <td>3.0</td>\n",
              "      <td>3.0</td>\n",
              "      <td>1.0</td>\n",
              "      <td>.css-19ug521{margin-top:6px;}.css-1jygg09{line...</td>\n",
              "      <td>.css-9g0qum{line-height:1.55;}83 л.с., налог</td>\n",
              "      <td>механика</td>\n",
              "      <td>4WD</td>\n",
              "      <td>NaN</td>\n",
              "      <td>...</td>\n",
              "      <td>Характеристики совпадают с ПТС</td>\n",
              "      <td>2 записи о регистрации</td>\n",
              "      <td>Стоит на учете в ГИБДД</td>\n",
              "      <td>Не был во владении у юр. лица</td>\n",
              "      <td>Последний период владения больше 4 лет</td>\n",
              "      <td>Не числится в розыске</td>\n",
              "      <td>Ограничений не обнаружено</td>\n",
              "      <td>https://auto.drom.ru/moscow/lada/2121_4x4_niva...</td>\n",
              "      <td>NaN</td>\n",
              "      <td>NaN</td>\n",
              "    </tr>\n",
              "    <tr>\n",
              "      <th>4</th>\n",
              "      <td>4</td>\n",
              "      <td>4.0</td>\n",
              "      <td>4.0</td>\n",
              "      <td>4.0</td>\n",
              "      <td>1.0</td>\n",
              "      <td>.css-19ug521{margin-top:6px;}.css-1jygg09{line...</td>\n",
              "      <td>.css-9g0qum{line-height:1.55;}122 л.с., налог</td>\n",
              "      <td>робот</td>\n",
              "      <td>передний</td>\n",
              "      <td>универсал</td>\n",
              "      <td>...</td>\n",
              "      <td>Модель не совпадает с ПТС</td>\n",
              "      <td>2 записи о регистрации</td>\n",
              "      <td>Не стоит на учете в ГИБДД</td>\n",
              "      <td>Был во владении у юр. лица</td>\n",
              "      <td>Последний период владения больше 2 лет</td>\n",
              "      <td>Не числится в розыске</td>\n",
              "      <td>Ограничений не обнаружено</td>\n",
              "      <td>https://auto.drom.ru/moscow/lada/vesta_cross/9...</td>\n",
              "      <td>NaN</td>\n",
              "      <td>NaN</td>\n",
              "    </tr>\n",
              "    <tr>\n",
              "      <th>...</th>\n",
              "      <td>...</td>\n",
              "      <td>...</td>\n",
              "      <td>...</td>\n",
              "      <td>...</td>\n",
              "      <td>...</td>\n",
              "      <td>...</td>\n",
              "      <td>...</td>\n",
              "      <td>...</td>\n",
              "      <td>...</td>\n",
              "      <td>...</td>\n",
              "      <td>...</td>\n",
              "      <td>...</td>\n",
              "      <td>...</td>\n",
              "      <td>...</td>\n",
              "      <td>...</td>\n",
              "      <td>...</td>\n",
              "      <td>...</td>\n",
              "      <td>...</td>\n",
              "      <td>...</td>\n",
              "      <td>...</td>\n",
              "      <td>...</td>\n",
              "    </tr>\n",
              "    <tr>\n",
              "      <th>1275</th>\n",
              "      <td>1</td>\n",
              "      <td>NaN</td>\n",
              "      <td>NaN</td>\n",
              "      <td>NaN</td>\n",
              "      <td>NaN</td>\n",
              "      <td>.css-19ug521{margin-top:6px;}.css-1jygg09{line...</td>\n",
              "      <td>.css-9g0qum{line-height:1.55;}87 л.с., налог</td>\n",
              "      <td>механика</td>\n",
              "      <td>передний</td>\n",
              "      <td>лифтбек</td>\n",
              "      <td>...</td>\n",
              "      <td>Характеристики совпадают с ПТС</td>\n",
              "      <td>2 записи о регистрации</td>\n",
              "      <td>Стоит на учете в ГИБДД</td>\n",
              "      <td>Не был во владении у юр. лица</td>\n",
              "      <td>Последний период владения больше 3 лет</td>\n",
              "      <td>Не числится в розыске</td>\n",
              "      <td>Ограничений не обнаружено</td>\n",
              "      <td>https://auto.drom.ru/moscow/lada/granta/349093...</td>\n",
              "      <td>NaN</td>\n",
              "      <td>NaN</td>\n",
              "    </tr>\n",
              "    <tr>\n",
              "      <th>1276</th>\n",
              "      <td>1</td>\n",
              "      <td>NaN</td>\n",
              "      <td>NaN</td>\n",
              "      <td>NaN</td>\n",
              "      <td>NaN</td>\n",
              "      <td>.css-19ug521{margin-top:6px;}.css-1jygg09{line...</td>\n",
              "      <td>.css-9g0qum{line-height:1.55;}87 л.с., налог</td>\n",
              "      <td>механика</td>\n",
              "      <td>передний</td>\n",
              "      <td>седан</td>\n",
              "      <td>...</td>\n",
              "      <td>Характеристики совпадают с ПТС</td>\n",
              "      <td>1 запись о регистрации</td>\n",
              "      <td>Стоит на учете в ГИБДД</td>\n",
              "      <td>Не был во владении у юр. лица</td>\n",
              "      <td>Последний период владения больше 2 лет</td>\n",
              "      <td>Не числится в розыске</td>\n",
              "      <td>Ограничений не обнаружено</td>\n",
              "      <td>https://auto.drom.ru/moscow/lada/granta/588200...</td>\n",
              "      <td>NaN</td>\n",
              "      <td>NaN</td>\n",
              "    </tr>\n",
              "    <tr>\n",
              "      <th>1277</th>\n",
              "      <td>1</td>\n",
              "      <td>NaN</td>\n",
              "      <td>NaN</td>\n",
              "      <td>NaN</td>\n",
              "      <td>NaN</td>\n",
              "      <td>.css-19ug521{margin-top:6px;}.css-1jygg09{line...</td>\n",
              "      <td>.css-9g0qum{line-height:1.55;}106 л.с., налог</td>\n",
              "      <td>механика</td>\n",
              "      <td>передний</td>\n",
              "      <td>седан</td>\n",
              "      <td>...</td>\n",
              "      <td>Характеристики совпадают с ПТС</td>\n",
              "      <td>1 запись о регистрации</td>\n",
              "      <td>Не стоит на учете в ГИБДД</td>\n",
              "      <td>Не был во владении у юр. лица</td>\n",
              "      <td>Последний период владения меньше 6 месяцев</td>\n",
              "      <td>Не числится в розыске</td>\n",
              "      <td>Ограничений не обнаружено</td>\n",
              "      <td>https://auto.drom.ru/moscow/lada/vesta/2393319...</td>\n",
              "      <td>NaN</td>\n",
              "      <td>NaN</td>\n",
              "    </tr>\n",
              "    <tr>\n",
              "      <th>1278</th>\n",
              "      <td>1</td>\n",
              "      <td>NaN</td>\n",
              "      <td>NaN</td>\n",
              "      <td>NaN</td>\n",
              "      <td>NaN</td>\n",
              "      <td>.css-19ug521{margin-top:6px;}.css-1jygg09{line...</td>\n",
              "      <td>.css-9g0qum{line-height:1.55;}78 л.с., налог</td>\n",
              "      <td>механика</td>\n",
              "      <td>передний</td>\n",
              "      <td>NaN</td>\n",
              "      <td>...</td>\n",
              "      <td>Характеристики совпадают с ПТС</td>\n",
              "      <td>2 записи о регистрации</td>\n",
              "      <td>Стоит на учете в ГИБДД</td>\n",
              "      <td>Не был во владении у юр. лица</td>\n",
              "      <td>Последний период владения больше 1 года</td>\n",
              "      <td>Не числится в розыске</td>\n",
              "      <td>Ограничений не обнаружено</td>\n",
              "      <td>https://auto.drom.ru/moscow/lada/21099/7020967...</td>\n",
              "      <td>NaN</td>\n",
              "      <td>NaN</td>\n",
              "    </tr>\n",
              "    <tr>\n",
              "      <th>1279</th>\n",
              "      <td>1</td>\n",
              "      <td>NaN</td>\n",
              "      <td>NaN</td>\n",
              "      <td>NaN</td>\n",
              "      <td>NaN</td>\n",
              "      <td>.css-19ug521{margin-top:6px;}.css-1jygg09{line...</td>\n",
              "      <td>.css-9g0qum{line-height:1.55;}98 л.с., налог</td>\n",
              "      <td>механика</td>\n",
              "      <td>передний</td>\n",
              "      <td>седан</td>\n",
              "      <td>...</td>\n",
              "      <td>Цвет не совпадает с ПТС</td>\n",
              "      <td>1 запись о регистрации</td>\n",
              "      <td>Не стоит на учете в ГИБДД</td>\n",
              "      <td>Не был во владении у юр. лица</td>\n",
              "      <td>Последний период владения больше 12 лет</td>\n",
              "      <td>Не числится в розыске</td>\n",
              "      <td>Ограничений не обнаружено</td>\n",
              "      <td>https://auto.drom.ru/moscow/lada/priora/441343...</td>\n",
              "      <td>1.6 MT Люкс 21703-03-031</td>\n",
              "      <td>NaN</td>\n",
              "    </tr>\n",
              "  </tbody>\n",
              "</table>\n",
              "<p>1280 rows × 26 columns</p>\n",
              "</div>\n",
              "    <div class=\"colab-df-buttons\">\n",
              "\n",
              "  <div class=\"colab-df-container\">\n",
              "    <button class=\"colab-df-convert\" onclick=\"convertToInteractive('df-0d610d88-a167-4277-b049-fae4afd13973')\"\n",
              "            title=\"Convert this dataframe to an interactive table.\"\n",
              "            style=\"display:none;\">\n",
              "\n",
              "  <svg xmlns=\"http://www.w3.org/2000/svg\" height=\"24px\" viewBox=\"0 -960 960 960\">\n",
              "    <path d=\"M120-120v-720h720v720H120Zm60-500h600v-160H180v160Zm220 220h160v-160H400v160Zm0 220h160v-160H400v160ZM180-400h160v-160H180v160Zm440 0h160v-160H620v160ZM180-180h160v-160H180v160Zm440 0h160v-160H620v160Z\"/>\n",
              "  </svg>\n",
              "    </button>\n",
              "\n",
              "  <style>\n",
              "    .colab-df-container {\n",
              "      display:flex;\n",
              "      gap: 12px;\n",
              "    }\n",
              "\n",
              "    .colab-df-convert {\n",
              "      background-color: #E8F0FE;\n",
              "      border: none;\n",
              "      border-radius: 50%;\n",
              "      cursor: pointer;\n",
              "      display: none;\n",
              "      fill: #1967D2;\n",
              "      height: 32px;\n",
              "      padding: 0 0 0 0;\n",
              "      width: 32px;\n",
              "    }\n",
              "\n",
              "    .colab-df-convert:hover {\n",
              "      background-color: #E2EBFA;\n",
              "      box-shadow: 0px 1px 2px rgba(60, 64, 67, 0.3), 0px 1px 3px 1px rgba(60, 64, 67, 0.15);\n",
              "      fill: #174EA6;\n",
              "    }\n",
              "\n",
              "    .colab-df-buttons div {\n",
              "      margin-bottom: 4px;\n",
              "    }\n",
              "\n",
              "    [theme=dark] .colab-df-convert {\n",
              "      background-color: #3B4455;\n",
              "      fill: #D2E3FC;\n",
              "    }\n",
              "\n",
              "    [theme=dark] .colab-df-convert:hover {\n",
              "      background-color: #434B5C;\n",
              "      box-shadow: 0px 1px 3px 1px rgba(0, 0, 0, 0.15);\n",
              "      filter: drop-shadow(0px 1px 2px rgba(0, 0, 0, 0.3));\n",
              "      fill: #FFFFFF;\n",
              "    }\n",
              "  </style>\n",
              "\n",
              "    <script>\n",
              "      const buttonEl =\n",
              "        document.querySelector('#df-0d610d88-a167-4277-b049-fae4afd13973 button.colab-df-convert');\n",
              "      buttonEl.style.display =\n",
              "        google.colab.kernel.accessAllowed ? 'block' : 'none';\n",
              "\n",
              "      async function convertToInteractive(key) {\n",
              "        const element = document.querySelector('#df-0d610d88-a167-4277-b049-fae4afd13973');\n",
              "        const dataTable =\n",
              "          await google.colab.kernel.invokeFunction('convertToInteractive',\n",
              "                                                    [key], {});\n",
              "        if (!dataTable) return;\n",
              "\n",
              "        const docLinkHtml = 'Like what you see? Visit the ' +\n",
              "          '<a target=\"_blank\" href=https://colab.research.google.com/notebooks/data_table.ipynb>data table notebook</a>'\n",
              "          + ' to learn more about interactive tables.';\n",
              "        element.innerHTML = '';\n",
              "        dataTable['output_type'] = 'display_data';\n",
              "        await google.colab.output.renderOutput(dataTable, element);\n",
              "        const docLink = document.createElement('div');\n",
              "        docLink.innerHTML = docLinkHtml;\n",
              "        element.appendChild(docLink);\n",
              "      }\n",
              "    </script>\n",
              "  </div>\n",
              "\n",
              "\n",
              "<div id=\"df-29e97c15-4339-485c-a694-69d17c35238b\">\n",
              "  <button class=\"colab-df-quickchart\" onclick=\"quickchart('df-29e97c15-4339-485c-a694-69d17c35238b')\"\n",
              "            title=\"Suggest charts\"\n",
              "            style=\"display:none;\">\n",
              "\n",
              "<svg xmlns=\"http://www.w3.org/2000/svg\" height=\"24px\"viewBox=\"0 0 24 24\"\n",
              "     width=\"24px\">\n",
              "    <g>\n",
              "        <path d=\"M19 3H5c-1.1 0-2 .9-2 2v14c0 1.1.9 2 2 2h14c1.1 0 2-.9 2-2V5c0-1.1-.9-2-2-2zM9 17H7v-7h2v7zm4 0h-2V7h2v10zm4 0h-2v-4h2v4z\"/>\n",
              "    </g>\n",
              "</svg>\n",
              "  </button>\n",
              "\n",
              "<style>\n",
              "  .colab-df-quickchart {\n",
              "      --bg-color: #E8F0FE;\n",
              "      --fill-color: #1967D2;\n",
              "      --hover-bg-color: #E2EBFA;\n",
              "      --hover-fill-color: #174EA6;\n",
              "      --disabled-fill-color: #AAA;\n",
              "      --disabled-bg-color: #DDD;\n",
              "  }\n",
              "\n",
              "  [theme=dark] .colab-df-quickchart {\n",
              "      --bg-color: #3B4455;\n",
              "      --fill-color: #D2E3FC;\n",
              "      --hover-bg-color: #434B5C;\n",
              "      --hover-fill-color: #FFFFFF;\n",
              "      --disabled-bg-color: #3B4455;\n",
              "      --disabled-fill-color: #666;\n",
              "  }\n",
              "\n",
              "  .colab-df-quickchart {\n",
              "    background-color: var(--bg-color);\n",
              "    border: none;\n",
              "    border-radius: 50%;\n",
              "    cursor: pointer;\n",
              "    display: none;\n",
              "    fill: var(--fill-color);\n",
              "    height: 32px;\n",
              "    padding: 0;\n",
              "    width: 32px;\n",
              "  }\n",
              "\n",
              "  .colab-df-quickchart:hover {\n",
              "    background-color: var(--hover-bg-color);\n",
              "    box-shadow: 0 1px 2px rgba(60, 64, 67, 0.3), 0 1px 3px 1px rgba(60, 64, 67, 0.15);\n",
              "    fill: var(--button-hover-fill-color);\n",
              "  }\n",
              "\n",
              "  .colab-df-quickchart-complete:disabled,\n",
              "  .colab-df-quickchart-complete:disabled:hover {\n",
              "    background-color: var(--disabled-bg-color);\n",
              "    fill: var(--disabled-fill-color);\n",
              "    box-shadow: none;\n",
              "  }\n",
              "\n",
              "  .colab-df-spinner {\n",
              "    border: 2px solid var(--fill-color);\n",
              "    border-color: transparent;\n",
              "    border-bottom-color: var(--fill-color);\n",
              "    animation:\n",
              "      spin 1s steps(1) infinite;\n",
              "  }\n",
              "\n",
              "  @keyframes spin {\n",
              "    0% {\n",
              "      border-color: transparent;\n",
              "      border-bottom-color: var(--fill-color);\n",
              "      border-left-color: var(--fill-color);\n",
              "    }\n",
              "    20% {\n",
              "      border-color: transparent;\n",
              "      border-left-color: var(--fill-color);\n",
              "      border-top-color: var(--fill-color);\n",
              "    }\n",
              "    30% {\n",
              "      border-color: transparent;\n",
              "      border-left-color: var(--fill-color);\n",
              "      border-top-color: var(--fill-color);\n",
              "      border-right-color: var(--fill-color);\n",
              "    }\n",
              "    40% {\n",
              "      border-color: transparent;\n",
              "      border-right-color: var(--fill-color);\n",
              "      border-top-color: var(--fill-color);\n",
              "    }\n",
              "    60% {\n",
              "      border-color: transparent;\n",
              "      border-right-color: var(--fill-color);\n",
              "    }\n",
              "    80% {\n",
              "      border-color: transparent;\n",
              "      border-right-color: var(--fill-color);\n",
              "      border-bottom-color: var(--fill-color);\n",
              "    }\n",
              "    90% {\n",
              "      border-color: transparent;\n",
              "      border-bottom-color: var(--fill-color);\n",
              "    }\n",
              "  }\n",
              "</style>\n",
              "\n",
              "  <script>\n",
              "    async function quickchart(key) {\n",
              "      const quickchartButtonEl =\n",
              "        document.querySelector('#' + key + ' button');\n",
              "      quickchartButtonEl.disabled = true;  // To prevent multiple clicks.\n",
              "      quickchartButtonEl.classList.add('colab-df-spinner');\n",
              "      try {\n",
              "        const charts = await google.colab.kernel.invokeFunction(\n",
              "            'suggestCharts', [key], {});\n",
              "      } catch (error) {\n",
              "        console.error('Error during call to suggestCharts:', error);\n",
              "      }\n",
              "      quickchartButtonEl.classList.remove('colab-df-spinner');\n",
              "      quickchartButtonEl.classList.add('colab-df-quickchart-complete');\n",
              "    }\n",
              "    (() => {\n",
              "      let quickchartButtonEl =\n",
              "        document.querySelector('#df-29e97c15-4339-485c-a694-69d17c35238b button');\n",
              "      quickchartButtonEl.style.display =\n",
              "        google.colab.kernel.accessAllowed ? 'block' : 'none';\n",
              "    })();\n",
              "  </script>\n",
              "</div>\n",
              "    </div>\n",
              "  </div>\n"
            ],
            "application/vnd.google.colaboratory.intrinsic+json": {
              "type": "dataframe",
              "variable_name": "table"
            }
          },
          "metadata": {},
          "execution_count": 26
        }
      ]
    },
    {
      "cell_type": "code",
      "source": [
        "errors"
      ],
      "metadata": {
        "id": "JZuZDTrOCTTd",
        "colab": {
          "base_uri": "https://localhost:8080/"
        },
        "outputId": "693f244a-d7f1-4707-8488-5c8f6778cbd7"
      },
      "execution_count": null,
      "outputs": [
        {
          "output_type": "execute_result",
          "data": {
            "text/plain": [
              "[3, 26]"
            ]
          },
          "metadata": {},
          "execution_count": 21
        }
      ]
    },
    {
      "cell_type": "code",
      "source": [
        "len(errors)"
      ],
      "metadata": {
        "id": "E6AGoXaqCTVz",
        "colab": {
          "base_uri": "https://localhost:8080/"
        },
        "outputId": "8fa7d3eb-32d4-4d7f-d00b-3feaa47ff3c5"
      },
      "execution_count": null,
      "outputs": [
        {
          "output_type": "execute_result",
          "data": {
            "text/plain": [
              "2"
            ]
          },
          "metadata": {},
          "execution_count": 39
        }
      ]
    },
    {
      "cell_type": "code",
      "source": [
        "table.to_csv('table_proekt_final.csv')"
      ],
      "metadata": {
        "id": "MGbMCrj9CTYG"
      },
      "execution_count": null,
      "outputs": []
    },
    {
      "cell_type": "code",
      "source": [],
      "metadata": {
        "id": "CYSrO6LfCTZ-"
      },
      "execution_count": null,
      "outputs": []
    },
    {
      "cell_type": "code",
      "source": [
        "links[-3:] #проблемные"
      ],
      "metadata": {
        "colab": {
          "base_uri": "https://localhost:8080/"
        },
        "id": "_4d8cY05GX3T",
        "outputId": "fc1eb144-1f24-4379-911c-eb83584de753"
      },
      "execution_count": null,
      "outputs": [
        {
          "output_type": "execute_result",
          "data": {
            "text/plain": [
              "['https://auto.drom.ru/moscow/lada/2101/54154909.html',\n",
              " 'https://auto.drom.ru/moscow/lada/2109/54146230.html',\n",
              " 'https://auto.drom.ru/moscow/lada/2107/413817552.html']"
            ]
          },
          "metadata": {},
          "execution_count": 50
        }
      ]
    },
    {
      "cell_type": "code",
      "source": [
        "links[-4:] #проблемные"
      ],
      "metadata": {
        "colab": {
          "base_uri": "https://localhost:8080/"
        },
        "id": "e1h-Rdb_GX5F",
        "outputId": "428a973d-4232-484f-c72f-9fb0804d8a9f"
      },
      "execution_count": null,
      "outputs": [
        {
          "output_type": "execute_result",
          "data": {
            "text/plain": [
              "['https://auto.drom.ru/moscow/lada/2101/54067420.html',\n",
              " 'https://auto.drom.ru/moscow/lada/2105/54061731.html',\n",
              " 'https://auto.drom.ru/moscow/lada/vesta/54056846.html',\n",
              " 'https://auto.drom.ru/moscow/lada/2104/54054453.html']"
            ]
          },
          "metadata": {},
          "execution_count": 59
        }
      ]
    },
    {
      "cell_type": "code",
      "source": [],
      "metadata": {
        "id": "TwtwFymrGPwW"
      },
      "execution_count": null,
      "outputs": []
    },
    {
      "cell_type": "code",
      "source": [],
      "metadata": {
        "id": "JKmUqzZLGPyj"
      },
      "execution_count": null,
      "outputs": []
    },
    {
      "cell_type": "code",
      "source": [],
      "metadata": {
        "id": "XehQ0FrSGP0v"
      },
      "execution_count": null,
      "outputs": []
    },
    {
      "cell_type": "code",
      "source": [],
      "metadata": {
        "id": "d43efe98FH9q"
      },
      "execution_count": null,
      "outputs": []
    },
    {
      "cell_type": "code",
      "source": [],
      "metadata": {
        "id": "CMAA5ktdFH_1"
      },
      "execution_count": null,
      "outputs": []
    },
    {
      "cell_type": "code",
      "source": [],
      "metadata": {
        "id": "_Zri93z1FIB2"
      },
      "execution_count": null,
      "outputs": []
    },
    {
      "cell_type": "code",
      "source": [],
      "metadata": {
        "id": "DAkttG3ZFIEN"
      },
      "execution_count": null,
      "outputs": []
    },
    {
      "cell_type": "code",
      "source": [],
      "metadata": {
        "id": "jxkeDMVmFIGo"
      },
      "execution_count": null,
      "outputs": []
    },
    {
      "cell_type": "code",
      "source": [],
      "metadata": {
        "id": "lH_FJCF8FIJA"
      },
      "execution_count": null,
      "outputs": []
    },
    {
      "cell_type": "code",
      "source": [],
      "metadata": {
        "id": "6ZXevZlwFILG"
      },
      "execution_count": null,
      "outputs": []
    },
    {
      "cell_type": "code",
      "source": [],
      "metadata": {
        "id": "6czSXLj3FINo"
      },
      "execution_count": null,
      "outputs": []
    },
    {
      "cell_type": "code",
      "source": [],
      "metadata": {
        "id": "VQgHdzZAFIQH"
      },
      "execution_count": null,
      "outputs": []
    },
    {
      "cell_type": "code",
      "source": [],
      "metadata": {
        "id": "KvUsDatTFISb"
      },
      "execution_count": null,
      "outputs": []
    },
    {
      "cell_type": "code",
      "source": [],
      "metadata": {
        "id": "Fplv5nejFIVM"
      },
      "execution_count": null,
      "outputs": []
    },
    {
      "cell_type": "code",
      "source": [],
      "metadata": {
        "id": "wl1aABgfFIXN"
      },
      "execution_count": null,
      "outputs": []
    },
    {
      "cell_type": "code",
      "source": [],
      "metadata": {
        "id": "xdFtdZEbFIZi"
      },
      "execution_count": null,
      "outputs": []
    },
    {
      "cell_type": "code",
      "source": [],
      "metadata": {
        "id": "Xzxsy-LBFIcH"
      },
      "execution_count": null,
      "outputs": []
    },
    {
      "cell_type": "code",
      "source": [],
      "metadata": {
        "id": "g9vzJiXcFIec"
      },
      "execution_count": null,
      "outputs": []
    },
    {
      "cell_type": "code",
      "source": [],
      "metadata": {
        "id": "Ra9S1LSMFIhK"
      },
      "execution_count": null,
      "outputs": []
    },
    {
      "cell_type": "code",
      "source": [],
      "metadata": {
        "id": "Rc22PSi8FIjF"
      },
      "execution_count": null,
      "outputs": []
    },
    {
      "cell_type": "code",
      "source": [],
      "metadata": {
        "id": "2aLv0iQlFIlY"
      },
      "execution_count": null,
      "outputs": []
    },
    {
      "cell_type": "code",
      "source": [],
      "metadata": {
        "id": "iCZNh50KFInk"
      },
      "execution_count": null,
      "outputs": []
    },
    {
      "cell_type": "code",
      "source": [],
      "metadata": {
        "id": "P9ODAXeUFIpz"
      },
      "execution_count": null,
      "outputs": []
    },
    {
      "cell_type": "code",
      "source": [],
      "metadata": {
        "id": "nT6w1LBWFIry"
      },
      "execution_count": null,
      "outputs": []
    },
    {
      "cell_type": "code",
      "source": [],
      "metadata": {
        "id": "IlPeREYiFIuV"
      },
      "execution_count": null,
      "outputs": []
    },
    {
      "cell_type": "code",
      "source": [],
      "metadata": {
        "id": "haiur_S57Vs4"
      },
      "execution_count": null,
      "outputs": []
    }
  ]
}