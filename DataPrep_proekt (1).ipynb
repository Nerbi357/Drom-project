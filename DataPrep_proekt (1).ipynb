{
  "nbformat": 4,
  "nbformat_minor": 0,
  "metadata": {
    "colab": {
      "provenance": []
    },
    "kernelspec": {
      "name": "python3",
      "display_name": "Python 3"
    },
    "language_info": {
      "name": "python"
    }
  },
  "cells": [
    {
      "cell_type": "code",
      "execution_count": null,
      "metadata": {
        "id": "at7hi7-zIY0U"
      },
      "outputs": [],
      "source": [
        "import pandas as pd\n",
        "import re"
      ]
    },
    {
      "cell_type": "code",
      "source": [
        "df = pd.read_csv('table_proekt_final.csv')"
      ],
      "metadata": {
        "id": "nI6VekSsIZOg"
      },
      "execution_count": null,
      "outputs": []
    },
    {
      "cell_type": "code",
      "source": [
        "df = df[['Двигатель', 'Мощность',\n",
        "       'Коробка передач', 'Привод', 'Тип кузова', 'Цвет', 'Пробег', 'Руль',\n",
        "       'Поколение', 'Название', 'Цена', '0', '1', '2', '3', '4', '5', '6',\n",
        "       'Ссылка', 'Комплектация', 'Особые отметки']]"
      ],
      "metadata": {
        "id": "LUqxtVBBIZcm",
        "colab": {
          "base_uri": "https://localhost:8080/",
          "height": 193
        },
        "outputId": "8a7fa745-1c33-415c-dd03-c0cb58724a48"
      },
      "execution_count": null,
      "outputs": [
        {
          "output_type": "error",
          "ename": "NameError",
          "evalue": "name 'df' is not defined",
          "traceback": [
            "\u001b[0;31m---------------------------------------------------------------------------\u001b[0m",
            "\u001b[0;31mNameError\u001b[0m                                 Traceback (most recent call last)",
            "\u001b[0;32m<ipython-input-1-f6422dd03b94>\u001b[0m in \u001b[0;36m<cell line: 1>\u001b[0;34m()\u001b[0m\n\u001b[0;32m----> 1\u001b[0;31m df = df[['Двигатель', 'Мощность',\n\u001b[0m\u001b[1;32m      2\u001b[0m        \u001b[0;34m'Коробка передач'\u001b[0m\u001b[0;34m,\u001b[0m \u001b[0;34m'Привод'\u001b[0m\u001b[0;34m,\u001b[0m \u001b[0;34m'Тип кузова'\u001b[0m\u001b[0;34m,\u001b[0m \u001b[0;34m'Цвет'\u001b[0m\u001b[0;34m,\u001b[0m \u001b[0;34m'Пробег'\u001b[0m\u001b[0;34m,\u001b[0m \u001b[0;34m'Руль'\u001b[0m\u001b[0;34m,\u001b[0m\u001b[0;34m\u001b[0m\u001b[0;34m\u001b[0m\u001b[0m\n\u001b[1;32m      3\u001b[0m        \u001b[0;34m'Поколение'\u001b[0m\u001b[0;34m,\u001b[0m \u001b[0;34m'Название'\u001b[0m\u001b[0;34m,\u001b[0m \u001b[0;34m'Цена'\u001b[0m\u001b[0;34m,\u001b[0m \u001b[0;34m'0'\u001b[0m\u001b[0;34m,\u001b[0m \u001b[0;34m'1'\u001b[0m\u001b[0;34m,\u001b[0m \u001b[0;34m'2'\u001b[0m\u001b[0;34m,\u001b[0m \u001b[0;34m'3'\u001b[0m\u001b[0;34m,\u001b[0m \u001b[0;34m'4'\u001b[0m\u001b[0;34m,\u001b[0m \u001b[0;34m'5'\u001b[0m\u001b[0;34m,\u001b[0m \u001b[0;34m'6'\u001b[0m\u001b[0;34m,\u001b[0m\u001b[0;34m\u001b[0m\u001b[0;34m\u001b[0m\u001b[0m\n\u001b[1;32m      4\u001b[0m        'Ссылка', 'Комплектация', 'Особые отметки']]\n",
            "\u001b[0;31mNameError\u001b[0m: name 'df' is not defined"
          ]
        }
      ]
    },
    {
      "cell_type": "code",
      "source": [
        "#Часть 1"
      ],
      "metadata": {
        "id": "sL9xrux9I21W"
      },
      "execution_count": null,
      "outputs": []
    },
    {
      "cell_type": "code",
      "source": [
        "df['Двигатель'] = df['Двигатель'].apply(lambda x: x.split('}')[-1] if pd.notna(x) else x)"
      ],
      "metadata": {
        "id": "o_g0i0QlErE6"
      },
      "execution_count": null,
      "outputs": []
    },
    {
      "cell_type": "code",
      "source": [
        "df['Мощность'] = df['Мощность'].apply(lambda x: x.split('}')[-1] if pd.notna(x) else x)"
      ],
      "metadata": {
        "id": "-IVRg0SSEVWU"
      },
      "execution_count": null,
      "outputs": []
    },
    {
      "cell_type": "code",
      "source": [
        "df['Цвет'] = df['Цвет'].apply(lambda x: x.split('}')[-1] if pd.notna(x) and len(x.split('}')[-1]) != 0 else x)"
      ],
      "metadata": {
        "id": "T_fA7QooEVan"
      },
      "execution_count": null,
      "outputs": []
    },
    {
      "cell_type": "code",
      "source": [
        "df['Пробег'] = df['Пробег'].apply(lambda x: x.split('}')[-1] if pd.notna(x) else x)"
      ],
      "metadata": {
        "id": "0KF3Z8UkEVc_"
      },
      "execution_count": null,
      "outputs": []
    },
    {
      "cell_type": "code",
      "source": [
        "df['Поколение'] = df['Поколение'].apply(lambda x: x.split('}')[-1] if pd.notna(x) and len(x.split('}')[-1]) != 0 else x)"
      ],
      "metadata": {
        "id": "GJXCoazoIA-V"
      },
      "execution_count": null,
      "outputs": []
    },
    {
      "cell_type": "code",
      "source": [
        "#Часть 2"
      ],
      "metadata": {
        "id": "FqisrhcuIBAW"
      },
      "execution_count": null,
      "outputs": []
    },
    {
      "cell_type": "code",
      "source": [
        "import pandas as pd\n",
        "import numpy as np\n",
        "\n",
        "def extract_fuel_type(engine):\n",
        "    if pd.isna(engine):\n",
        "        return np.nan\n",
        "    elif 'ГБО' in engine:\n",
        "        return 'бензин, ГБО'\n",
        "    elif 'бензин' in engine:\n",
        "        return 'бензин'\n",
        "    else:\n",
        "        return 'другое'\n",
        "\n",
        "def extract_engine_volume(engine):\n",
        "    if pd.isna(engine):\n",
        "        return np.nan\n",
        "    else:\n",
        "        parts = engine.split(',')\n",
        "        if len(parts) > 1:\n",
        "            volume = parts[-1].strip().replace('л', '').replace(' ', '')\n",
        "            if volume.replace('.', '').isdigit():\n",
        "                return float(volume)\n",
        "    return np.nan\n",
        "\n",
        "df['Топливо двигателя'] = df['Двигатель'].apply(extract_fuel_type)\n",
        "df['Объём двигателя'] = df['Двигатель'].apply(extract_engine_volume)"
      ],
      "metadata": {
        "id": "ToLET291IBKh"
      },
      "execution_count": null,
      "outputs": []
    },
    {
      "cell_type": "code",
      "source": [
        "df = df.drop('Двигатель', axis = 1)"
      ],
      "metadata": {
        "id": "5_Wa3q1JLXsV"
      },
      "execution_count": null,
      "outputs": []
    },
    {
      "cell_type": "code",
      "source": [
        "df['Мощность'] = df['Мощность'].apply(lambda x: int(x.split('л')[0]) if pd.notna(x) and len(x.split('}')[-1]) != 0 else x)"
      ],
      "metadata": {
        "id": "Ns3KYT2EL0F8"
      },
      "execution_count": null,
      "outputs": []
    },
    {
      "cell_type": "code",
      "source": [
        "df['Пробег'] = df['Пробег'].apply(lambda x: int(x.split('к')[0].replace('\\xa0', '')) if pd.notna(x) else x)"
      ],
      "metadata": {
        "id": "SKyStgEZL0M_"
      },
      "execution_count": null,
      "outputs": []
    },
    {
      "cell_type": "code",
      "source": [
        "df['Цена'] = df['Цена'].apply(lambda x: int(x.split('₽')[0].replace('\\xa0', '')) if pd.notna(x) else x)"
      ],
      "metadata": {
        "id": "nauoono5NnA_"
      },
      "execution_count": null,
      "outputs": []
    },
    {
      "cell_type": "code",
      "source": [
        "def extract_year(string):\n",
        "    match = re.findall(r'\\b\\d{4}\\b', string)\n",
        "    if match:\n",
        "        return int(match[-1])\n",
        "    else:\n",
        "        return None\n",
        "\n",
        "df['Год'] = df['Название'].apply(extract_year)"
      ],
      "metadata": {
        "id": "AryVDzNMPIt7"
      },
      "execution_count": null,
      "outputs": []
    },
    {
      "cell_type": "code",
      "source": [
        "def extract_car_name(string):\n",
        "    match = re.search(r'(\\b[А-Яа-я]+\\b\\s+[\\w\\s]+?)(?=,\\s*\\d{4}\\s+год|\\s+\\d{4}\\s+в)', string.replace('Продажа ', ''))\n",
        "    if match:\n",
        "        return match.group(1).strip()\n",
        "    else:\n",
        "        return None\n",
        "\n",
        "df['Название машины'] = df['Название'].apply(extract_car_name)"
      ],
      "metadata": {
        "id": "A-thGk0HQcwT"
      },
      "execution_count": null,
      "outputs": []
    },
    {
      "cell_type": "code",
      "source": [
        "df = df.drop('Название', axis = 1)"
      ],
      "metadata": {
        "id": "l36hZB73LXua"
      },
      "execution_count": null,
      "outputs": []
    },
    {
      "cell_type": "code",
      "source": [
        "#Часть 3"
      ],
      "metadata": {
        "id": "3heoAO6RIBWe"
      },
      "execution_count": null,
      "outputs": []
    },
    {
      "cell_type": "code",
      "source": [
        "df = df.drop_duplicates()"
      ],
      "metadata": {
        "id": "az6vWjI0STUP"
      },
      "execution_count": null,
      "outputs": []
    },
    {
      "cell_type": "code",
      "source": [
        "df = df.drop('5', axis = 1)"
      ],
      "metadata": {
        "id": "8-roCswtsM3T"
      },
      "execution_count": null,
      "outputs": []
    },
    {
      "cell_type": "code",
      "source": [
        "df = df.drop(['Комплектация', 'Поколение'], axis = 1)"
      ],
      "metadata": {
        "id": "EhX-xlrrvl4D"
      },
      "execution_count": null,
      "outputs": []
    },
    {
      "cell_type": "code",
      "source": [
        "df = df.dropna(subset = ['Мощность', 'Коробка передач', 'Привод', 'Тип кузова', 'Цвет', 'Пробег',\n",
        "       'Руль', 'Цена', '0', '1', '2', '3', '4', '6', 'Ссылка',\n",
        "       'Топливо двигателя', 'Объём двигателя', 'Год',\n",
        "       'Название машины'])"
      ],
      "metadata": {
        "id": "3v2RysltyID1"
      },
      "execution_count": null,
      "outputs": []
    },
    {
      "cell_type": "code",
      "source": [],
      "metadata": {
        "id": "ML8AzcAwyIoI"
      },
      "execution_count": null,
      "outputs": []
    },
    {
      "cell_type": "code",
      "source": [
        "df.head(5)"
      ],
      "metadata": {
        "colab": {
          "base_uri": "https://localhost:8080/",
          "height": 571
        },
        "id": "kxxBwTFPyKso",
        "outputId": "02d42787-f743-4a0d-ed02-e4fd7d63c779"
      },
      "execution_count": null,
      "outputs": [
        {
          "output_type": "execute_result",
          "data": {
            "text/plain": [
              "   Мощность Коробка передач    Привод Тип кузова    Цвет   Пробег   Руль  \\\n",
              "0     122.0        механика  передний  универсал   серый  86684.0  левый   \n",
              "1     122.0           робот  передний  универсал   белый  77400.0  левый   \n",
              "2      90.0        механика  передний      седан   белый   9200.0  левый   \n",
              "4     122.0           робот  передний  универсал  черный  84594.0  левый   \n",
              "7     122.0        механика  передний      седан   белый  58195.0  левый   \n",
              "\n",
              "      Цена                               0                       1  \\\n",
              "0  1350000  Характеристики совпадают с ПТС  1 запись о регистрации   \n",
              "1  1350000  Характеристики совпадают с ПТС  1 запись о регистрации   \n",
              "2   950000  Характеристики совпадают с ПТС  1 запись о регистрации   \n",
              "4  1165000       Модель не совпадает с ПТС  2 записи о регистрации   \n",
              "7  1145000  Характеристики совпадают с ПТС  1 запись о регистрации   \n",
              "\n",
              "                           2                              3  \\\n",
              "0     Стоит на учете в ГИБДД  Не был во владении у юр. лица   \n",
              "1     Стоит на учете в ГИБДД  Не был во владении у юр. лица   \n",
              "2     Стоит на учете в ГИБДД  Не был во владении у юр. лица   \n",
              "4  Не стоит на учете в ГИБДД     Был во владении у юр. лица   \n",
              "7  Не стоит на учете в ГИБДД  Не был во владении у юр. лица   \n",
              "\n",
              "                                            4                          6  \\\n",
              "0      Последний период владения больше 5 лет  Ограничений не обнаружено   \n",
              "1      Последний период владения больше 4 лет  Ограничений не обнаружено   \n",
              "2  Последний период владения больше 6 месяцев  Ограничений не обнаружено   \n",
              "4      Последний период владения больше 2 лет  Ограничений не обнаружено   \n",
              "7      Последний период владения больше 4 лет  Ограничений не обнаружено   \n",
              "\n",
              "                                              Ссылка Особые отметки  \\\n",
              "0  https://auto.drom.ru/moscow/lada/vesta_cross/5...            NaN   \n",
              "1  https://auto.drom.ru/moscow/lada/vesta/2447192...            NaN   \n",
              "2  https://auto.drom.ru/moscow/lada/granta/290328...            NaN   \n",
              "4  https://auto.drom.ru/moscow/lada/vesta_cross/9...            NaN   \n",
              "7  https://auto.drom.ru/moscow/lada/vesta/6242073...            NaN   \n",
              "\n",
              "  Топливо двигателя  Объём двигателя   Год   Название машины  \n",
              "0            бензин              1.8  2018  Лада Веста Кросс  \n",
              "1            бензин              1.8  2019        Лада Веста  \n",
              "2            бензин              1.6  2023       Лада Гранта  \n",
              "4            бензин              1.8  2019  Лада Веста Кросс  \n",
              "7            бензин              1.8  2019        Лада Веста  "
            ],
            "text/html": [
              "\n",
              "  <div id=\"df-30fbe4a3-4953-40ef-b727-b3c6b54ab989\" class=\"colab-df-container\">\n",
              "    <div>\n",
              "<style scoped>\n",
              "    .dataframe tbody tr th:only-of-type {\n",
              "        vertical-align: middle;\n",
              "    }\n",
              "\n",
              "    .dataframe tbody tr th {\n",
              "        vertical-align: top;\n",
              "    }\n",
              "\n",
              "    .dataframe thead th {\n",
              "        text-align: right;\n",
              "    }\n",
              "</style>\n",
              "<table border=\"1\" class=\"dataframe\">\n",
              "  <thead>\n",
              "    <tr style=\"text-align: right;\">\n",
              "      <th></th>\n",
              "      <th>Мощность</th>\n",
              "      <th>Коробка передач</th>\n",
              "      <th>Привод</th>\n",
              "      <th>Тип кузова</th>\n",
              "      <th>Цвет</th>\n",
              "      <th>Пробег</th>\n",
              "      <th>Руль</th>\n",
              "      <th>Цена</th>\n",
              "      <th>0</th>\n",
              "      <th>1</th>\n",
              "      <th>2</th>\n",
              "      <th>3</th>\n",
              "      <th>4</th>\n",
              "      <th>6</th>\n",
              "      <th>Ссылка</th>\n",
              "      <th>Особые отметки</th>\n",
              "      <th>Топливо двигателя</th>\n",
              "      <th>Объём двигателя</th>\n",
              "      <th>Год</th>\n",
              "      <th>Название машины</th>\n",
              "    </tr>\n",
              "  </thead>\n",
              "  <tbody>\n",
              "    <tr>\n",
              "      <th>0</th>\n",
              "      <td>122.0</td>\n",
              "      <td>механика</td>\n",
              "      <td>передний</td>\n",
              "      <td>универсал</td>\n",
              "      <td>серый</td>\n",
              "      <td>86684.0</td>\n",
              "      <td>левый</td>\n",
              "      <td>1350000</td>\n",
              "      <td>Характеристики совпадают с ПТС</td>\n",
              "      <td>1 запись о регистрации</td>\n",
              "      <td>Стоит на учете в ГИБДД</td>\n",
              "      <td>Не был во владении у юр. лица</td>\n",
              "      <td>Последний период владения больше 5 лет</td>\n",
              "      <td>Ограничений не обнаружено</td>\n",
              "      <td>https://auto.drom.ru/moscow/lada/vesta_cross/5...</td>\n",
              "      <td>NaN</td>\n",
              "      <td>бензин</td>\n",
              "      <td>1.8</td>\n",
              "      <td>2018</td>\n",
              "      <td>Лада Веста Кросс</td>\n",
              "    </tr>\n",
              "    <tr>\n",
              "      <th>1</th>\n",
              "      <td>122.0</td>\n",
              "      <td>робот</td>\n",
              "      <td>передний</td>\n",
              "      <td>универсал</td>\n",
              "      <td>белый</td>\n",
              "      <td>77400.0</td>\n",
              "      <td>левый</td>\n",
              "      <td>1350000</td>\n",
              "      <td>Характеристики совпадают с ПТС</td>\n",
              "      <td>1 запись о регистрации</td>\n",
              "      <td>Стоит на учете в ГИБДД</td>\n",
              "      <td>Не был во владении у юр. лица</td>\n",
              "      <td>Последний период владения больше 4 лет</td>\n",
              "      <td>Ограничений не обнаружено</td>\n",
              "      <td>https://auto.drom.ru/moscow/lada/vesta/2447192...</td>\n",
              "      <td>NaN</td>\n",
              "      <td>бензин</td>\n",
              "      <td>1.8</td>\n",
              "      <td>2019</td>\n",
              "      <td>Лада Веста</td>\n",
              "    </tr>\n",
              "    <tr>\n",
              "      <th>2</th>\n",
              "      <td>90.0</td>\n",
              "      <td>механика</td>\n",
              "      <td>передний</td>\n",
              "      <td>седан</td>\n",
              "      <td>белый</td>\n",
              "      <td>9200.0</td>\n",
              "      <td>левый</td>\n",
              "      <td>950000</td>\n",
              "      <td>Характеристики совпадают с ПТС</td>\n",
              "      <td>1 запись о регистрации</td>\n",
              "      <td>Стоит на учете в ГИБДД</td>\n",
              "      <td>Не был во владении у юр. лица</td>\n",
              "      <td>Последний период владения больше 6 месяцев</td>\n",
              "      <td>Ограничений не обнаружено</td>\n",
              "      <td>https://auto.drom.ru/moscow/lada/granta/290328...</td>\n",
              "      <td>NaN</td>\n",
              "      <td>бензин</td>\n",
              "      <td>1.6</td>\n",
              "      <td>2023</td>\n",
              "      <td>Лада Гранта</td>\n",
              "    </tr>\n",
              "    <tr>\n",
              "      <th>4</th>\n",
              "      <td>122.0</td>\n",
              "      <td>робот</td>\n",
              "      <td>передний</td>\n",
              "      <td>универсал</td>\n",
              "      <td>черный</td>\n",
              "      <td>84594.0</td>\n",
              "      <td>левый</td>\n",
              "      <td>1165000</td>\n",
              "      <td>Модель не совпадает с ПТС</td>\n",
              "      <td>2 записи о регистрации</td>\n",
              "      <td>Не стоит на учете в ГИБДД</td>\n",
              "      <td>Был во владении у юр. лица</td>\n",
              "      <td>Последний период владения больше 2 лет</td>\n",
              "      <td>Ограничений не обнаружено</td>\n",
              "      <td>https://auto.drom.ru/moscow/lada/vesta_cross/9...</td>\n",
              "      <td>NaN</td>\n",
              "      <td>бензин</td>\n",
              "      <td>1.8</td>\n",
              "      <td>2019</td>\n",
              "      <td>Лада Веста Кросс</td>\n",
              "    </tr>\n",
              "    <tr>\n",
              "      <th>7</th>\n",
              "      <td>122.0</td>\n",
              "      <td>механика</td>\n",
              "      <td>передний</td>\n",
              "      <td>седан</td>\n",
              "      <td>белый</td>\n",
              "      <td>58195.0</td>\n",
              "      <td>левый</td>\n",
              "      <td>1145000</td>\n",
              "      <td>Характеристики совпадают с ПТС</td>\n",
              "      <td>1 запись о регистрации</td>\n",
              "      <td>Не стоит на учете в ГИБДД</td>\n",
              "      <td>Не был во владении у юр. лица</td>\n",
              "      <td>Последний период владения больше 4 лет</td>\n",
              "      <td>Ограничений не обнаружено</td>\n",
              "      <td>https://auto.drom.ru/moscow/lada/vesta/6242073...</td>\n",
              "      <td>NaN</td>\n",
              "      <td>бензин</td>\n",
              "      <td>1.8</td>\n",
              "      <td>2019</td>\n",
              "      <td>Лада Веста</td>\n",
              "    </tr>\n",
              "  </tbody>\n",
              "</table>\n",
              "</div>\n",
              "    <div class=\"colab-df-buttons\">\n",
              "\n",
              "  <div class=\"colab-df-container\">\n",
              "    <button class=\"colab-df-convert\" onclick=\"convertToInteractive('df-30fbe4a3-4953-40ef-b727-b3c6b54ab989')\"\n",
              "            title=\"Convert this dataframe to an interactive table.\"\n",
              "            style=\"display:none;\">\n",
              "\n",
              "  <svg xmlns=\"http://www.w3.org/2000/svg\" height=\"24px\" viewBox=\"0 -960 960 960\">\n",
              "    <path d=\"M120-120v-720h720v720H120Zm60-500h600v-160H180v160Zm220 220h160v-160H400v160Zm0 220h160v-160H400v160ZM180-400h160v-160H180v160Zm440 0h160v-160H620v160ZM180-180h160v-160H180v160Zm440 0h160v-160H620v160Z\"/>\n",
              "  </svg>\n",
              "    </button>\n",
              "\n",
              "  <style>\n",
              "    .colab-df-container {\n",
              "      display:flex;\n",
              "      gap: 12px;\n",
              "    }\n",
              "\n",
              "    .colab-df-convert {\n",
              "      background-color: #E8F0FE;\n",
              "      border: none;\n",
              "      border-radius: 50%;\n",
              "      cursor: pointer;\n",
              "      display: none;\n",
              "      fill: #1967D2;\n",
              "      height: 32px;\n",
              "      padding: 0 0 0 0;\n",
              "      width: 32px;\n",
              "    }\n",
              "\n",
              "    .colab-df-convert:hover {\n",
              "      background-color: #E2EBFA;\n",
              "      box-shadow: 0px 1px 2px rgba(60, 64, 67, 0.3), 0px 1px 3px 1px rgba(60, 64, 67, 0.15);\n",
              "      fill: #174EA6;\n",
              "    }\n",
              "\n",
              "    .colab-df-buttons div {\n",
              "      margin-bottom: 4px;\n",
              "    }\n",
              "\n",
              "    [theme=dark] .colab-df-convert {\n",
              "      background-color: #3B4455;\n",
              "      fill: #D2E3FC;\n",
              "    }\n",
              "\n",
              "    [theme=dark] .colab-df-convert:hover {\n",
              "      background-color: #434B5C;\n",
              "      box-shadow: 0px 1px 3px 1px rgba(0, 0, 0, 0.15);\n",
              "      filter: drop-shadow(0px 1px 2px rgba(0, 0, 0, 0.3));\n",
              "      fill: #FFFFFF;\n",
              "    }\n",
              "  </style>\n",
              "\n",
              "    <script>\n",
              "      const buttonEl =\n",
              "        document.querySelector('#df-30fbe4a3-4953-40ef-b727-b3c6b54ab989 button.colab-df-convert');\n",
              "      buttonEl.style.display =\n",
              "        google.colab.kernel.accessAllowed ? 'block' : 'none';\n",
              "\n",
              "      async function convertToInteractive(key) {\n",
              "        const element = document.querySelector('#df-30fbe4a3-4953-40ef-b727-b3c6b54ab989');\n",
              "        const dataTable =\n",
              "          await google.colab.kernel.invokeFunction('convertToInteractive',\n",
              "                                                    [key], {});\n",
              "        if (!dataTable) return;\n",
              "\n",
              "        const docLinkHtml = 'Like what you see? Visit the ' +\n",
              "          '<a target=\"_blank\" href=https://colab.research.google.com/notebooks/data_table.ipynb>data table notebook</a>'\n",
              "          + ' to learn more about interactive tables.';\n",
              "        element.innerHTML = '';\n",
              "        dataTable['output_type'] = 'display_data';\n",
              "        await google.colab.output.renderOutput(dataTable, element);\n",
              "        const docLink = document.createElement('div');\n",
              "        docLink.innerHTML = docLinkHtml;\n",
              "        element.appendChild(docLink);\n",
              "      }\n",
              "    </script>\n",
              "  </div>\n",
              "\n",
              "\n",
              "<div id=\"df-65770cf3-80d0-4c68-9291-cd52f09b6e4d\">\n",
              "  <button class=\"colab-df-quickchart\" onclick=\"quickchart('df-65770cf3-80d0-4c68-9291-cd52f09b6e4d')\"\n",
              "            title=\"Suggest charts\"\n",
              "            style=\"display:none;\">\n",
              "\n",
              "<svg xmlns=\"http://www.w3.org/2000/svg\" height=\"24px\"viewBox=\"0 0 24 24\"\n",
              "     width=\"24px\">\n",
              "    <g>\n",
              "        <path d=\"M19 3H5c-1.1 0-2 .9-2 2v14c0 1.1.9 2 2 2h14c1.1 0 2-.9 2-2V5c0-1.1-.9-2-2-2zM9 17H7v-7h2v7zm4 0h-2V7h2v10zm4 0h-2v-4h2v4z\"/>\n",
              "    </g>\n",
              "</svg>\n",
              "  </button>\n",
              "\n",
              "<style>\n",
              "  .colab-df-quickchart {\n",
              "      --bg-color: #E8F0FE;\n",
              "      --fill-color: #1967D2;\n",
              "      --hover-bg-color: #E2EBFA;\n",
              "      --hover-fill-color: #174EA6;\n",
              "      --disabled-fill-color: #AAA;\n",
              "      --disabled-bg-color: #DDD;\n",
              "  }\n",
              "\n",
              "  [theme=dark] .colab-df-quickchart {\n",
              "      --bg-color: #3B4455;\n",
              "      --fill-color: #D2E3FC;\n",
              "      --hover-bg-color: #434B5C;\n",
              "      --hover-fill-color: #FFFFFF;\n",
              "      --disabled-bg-color: #3B4455;\n",
              "      --disabled-fill-color: #666;\n",
              "  }\n",
              "\n",
              "  .colab-df-quickchart {\n",
              "    background-color: var(--bg-color);\n",
              "    border: none;\n",
              "    border-radius: 50%;\n",
              "    cursor: pointer;\n",
              "    display: none;\n",
              "    fill: var(--fill-color);\n",
              "    height: 32px;\n",
              "    padding: 0;\n",
              "    width: 32px;\n",
              "  }\n",
              "\n",
              "  .colab-df-quickchart:hover {\n",
              "    background-color: var(--hover-bg-color);\n",
              "    box-shadow: 0 1px 2px rgba(60, 64, 67, 0.3), 0 1px 3px 1px rgba(60, 64, 67, 0.15);\n",
              "    fill: var(--button-hover-fill-color);\n",
              "  }\n",
              "\n",
              "  .colab-df-quickchart-complete:disabled,\n",
              "  .colab-df-quickchart-complete:disabled:hover {\n",
              "    background-color: var(--disabled-bg-color);\n",
              "    fill: var(--disabled-fill-color);\n",
              "    box-shadow: none;\n",
              "  }\n",
              "\n",
              "  .colab-df-spinner {\n",
              "    border: 2px solid var(--fill-color);\n",
              "    border-color: transparent;\n",
              "    border-bottom-color: var(--fill-color);\n",
              "    animation:\n",
              "      spin 1s steps(1) infinite;\n",
              "  }\n",
              "\n",
              "  @keyframes spin {\n",
              "    0% {\n",
              "      border-color: transparent;\n",
              "      border-bottom-color: var(--fill-color);\n",
              "      border-left-color: var(--fill-color);\n",
              "    }\n",
              "    20% {\n",
              "      border-color: transparent;\n",
              "      border-left-color: var(--fill-color);\n",
              "      border-top-color: var(--fill-color);\n",
              "    }\n",
              "    30% {\n",
              "      border-color: transparent;\n",
              "      border-left-color: var(--fill-color);\n",
              "      border-top-color: var(--fill-color);\n",
              "      border-right-color: var(--fill-color);\n",
              "    }\n",
              "    40% {\n",
              "      border-color: transparent;\n",
              "      border-right-color: var(--fill-color);\n",
              "      border-top-color: var(--fill-color);\n",
              "    }\n",
              "    60% {\n",
              "      border-color: transparent;\n",
              "      border-right-color: var(--fill-color);\n",
              "    }\n",
              "    80% {\n",
              "      border-color: transparent;\n",
              "      border-right-color: var(--fill-color);\n",
              "      border-bottom-color: var(--fill-color);\n",
              "    }\n",
              "    90% {\n",
              "      border-color: transparent;\n",
              "      border-bottom-color: var(--fill-color);\n",
              "    }\n",
              "  }\n",
              "</style>\n",
              "\n",
              "  <script>\n",
              "    async function quickchart(key) {\n",
              "      const quickchartButtonEl =\n",
              "        document.querySelector('#' + key + ' button');\n",
              "      quickchartButtonEl.disabled = true;  // To prevent multiple clicks.\n",
              "      quickchartButtonEl.classList.add('colab-df-spinner');\n",
              "      try {\n",
              "        const charts = await google.colab.kernel.invokeFunction(\n",
              "            'suggestCharts', [key], {});\n",
              "      } catch (error) {\n",
              "        console.error('Error during call to suggestCharts:', error);\n",
              "      }\n",
              "      quickchartButtonEl.classList.remove('colab-df-spinner');\n",
              "      quickchartButtonEl.classList.add('colab-df-quickchart-complete');\n",
              "    }\n",
              "    (() => {\n",
              "      let quickchartButtonEl =\n",
              "        document.querySelector('#df-65770cf3-80d0-4c68-9291-cd52f09b6e4d button');\n",
              "      quickchartButtonEl.style.display =\n",
              "        google.colab.kernel.accessAllowed ? 'block' : 'none';\n",
              "    })();\n",
              "  </script>\n",
              "</div>\n",
              "    </div>\n",
              "  </div>\n"
            ],
            "application/vnd.google.colaboratory.intrinsic+json": {
              "type": "dataframe",
              "variable_name": "df",
              "summary": "{\n  \"name\": \"df\",\n  \"rows\": 661,\n  \"fields\": [\n    {\n      \"column\": \"\\u041c\\u043e\\u0449\\u043d\\u043e\\u0441\\u0442\\u044c\",\n      \"properties\": {\n        \"dtype\": \"number\",\n        \"std\": 12.804534157446987,\n        \"min\": 59.0,\n        \"max\": 122.0,\n        \"num_unique_values\": 24,\n        \"samples\": [\n          87.0,\n          72.0,\n          122.0\n        ],\n        \"semantic_type\": \"\",\n        \"description\": \"\"\n      }\n    },\n    {\n      \"column\": \"\\u041a\\u043e\\u0440\\u043e\\u0431\\u043a\\u0430 \\u043f\\u0435\\u0440\\u0435\\u0434\\u0430\\u0447\",\n      \"properties\": {\n        \"dtype\": \"category\",\n        \"num_unique_values\": 4,\n        \"samples\": [\n          \"\\u0440\\u043e\\u0431\\u043e\\u0442\",\n          \"\\u0410\\u041a\\u041f\\u041f\",\n          \"\\u043c\\u0435\\u0445\\u0430\\u043d\\u0438\\u043a\\u0430\"\n        ],\n        \"semantic_type\": \"\",\n        \"description\": \"\"\n      }\n    },\n    {\n      \"column\": \"\\u041f\\u0440\\u0438\\u0432\\u043e\\u0434\",\n      \"properties\": {\n        \"dtype\": \"category\",\n        \"num_unique_values\": 3,\n        \"samples\": [\n          \"\\u043f\\u0435\\u0440\\u0435\\u0434\\u043d\\u0438\\u0439\",\n          \"4WD\",\n          \"\\u0437\\u0430\\u0434\\u043d\\u0438\\u0439\"\n        ],\n        \"semantic_type\": \"\",\n        \"description\": \"\"\n      }\n    },\n    {\n      \"column\": \"\\u0422\\u0438\\u043f \\u043a\\u0443\\u0437\\u043e\\u0432\\u0430\",\n      \"properties\": {\n        \"dtype\": \"category\",\n        \"num_unique_values\": 8,\n        \"samples\": [\n          \"\\u0441\\u0435\\u0434\\u0430\\u043d\",\n          \"\\u0445\\u044d\\u0442\\u0447\\u0431\\u0435\\u043a 3 \\u0434\\u0432.\",\n          \"\\u0443\\u043d\\u0438\\u0432\\u0435\\u0440\\u0441\\u0430\\u043b\"\n        ],\n        \"semantic_type\": \"\",\n        \"description\": \"\"\n      }\n    },\n    {\n      \"column\": \"\\u0426\\u0432\\u0435\\u0442\",\n      \"properties\": {\n        \"dtype\": \"category\",\n        \"num_unique_values\": 15,\n        \"samples\": [\n          \"\\u0433\\u043e\\u043b\\u0443\\u0431\\u043e\\u0439\",\n          \"\\u0431\\u0435\\u0436\\u0435\\u0432\\u044b\\u0439\",\n          \"\\u0441\\u0435\\u0440\\u044b\\u0439\"\n        ],\n        \"semantic_type\": \"\",\n        \"description\": \"\"\n      }\n    },\n    {\n      \"column\": \"\\u041f\\u0440\\u043e\\u0431\\u0435\\u0433\",\n      \"properties\": {\n        \"dtype\": \"number\",\n        \"std\": 82054.02836772316,\n        \"min\": 69.0,\n        \"max\": 414674.0,\n        \"num_unique_values\": 570,\n        \"samples\": [\n          29934.0,\n          207600.0,\n          60304.0\n        ],\n        \"semantic_type\": \"\",\n        \"description\": \"\"\n      }\n    },\n    {\n      \"column\": \"\\u0420\\u0443\\u043b\\u044c\",\n      \"properties\": {\n        \"dtype\": \"category\",\n        \"num_unique_values\": 1,\n        \"samples\": [\n          \"\\u043b\\u0435\\u0432\\u044b\\u0439\"\n        ],\n        \"semantic_type\": \"\",\n        \"description\": \"\"\n      }\n    },\n    {\n      \"column\": \"\\u0426\\u0435\\u043d\\u0430\",\n      \"properties\": {\n        \"dtype\": \"number\",\n        \"std\": 405661,\n        \"min\": 55000,\n        \"max\": 2150000,\n        \"num_unique_values\": 370,\n        \"samples\": [\n          1068000\n        ],\n        \"semantic_type\": \"\",\n        \"description\": \"\"\n      }\n    },\n    {\n      \"column\": \"0\",\n      \"properties\": {\n        \"dtype\": \"category\",\n        \"num_unique_values\": 5,\n        \"samples\": [\n          \"\\u041c\\u043e\\u0434\\u0435\\u043b\\u044c \\u043d\\u0435 \\u0441\\u043e\\u0432\\u043f\\u0430\\u0434\\u0430\\u0435\\u0442 \\u0441 \\u041f\\u0422\\u0421\"\n        ],\n        \"semantic_type\": \"\",\n        \"description\": \"\"\n      }\n    },\n    {\n      \"column\": \"1\",\n      \"properties\": {\n        \"dtype\": \"category\",\n        \"num_unique_values\": 12,\n        \"samples\": [\n          \"11 \\u0437\\u0430\\u043f\\u0438\\u0441\\u0435\\u0439 \\u043e \\u0440\\u0435\\u0433\\u0438\\u0441\\u0442\\u0440\\u0430\\u0446\\u0438\\u0438\"\n        ],\n        \"semantic_type\": \"\",\n        \"description\": \"\"\n      }\n    },\n    {\n      \"column\": \"2\",\n      \"properties\": {\n        \"dtype\": \"category\",\n        \"num_unique_values\": 2,\n        \"samples\": [\n          \"\\u041d\\u0435 \\u0441\\u0442\\u043e\\u0438\\u0442 \\u043d\\u0430 \\u0443\\u0447\\u0435\\u0442\\u0435 \\u0432 \\u0413\\u0418\\u0411\\u0414\\u0414\"\n        ],\n        \"semantic_type\": \"\",\n        \"description\": \"\"\n      }\n    },\n    {\n      \"column\": \"3\",\n      \"properties\": {\n        \"dtype\": \"category\",\n        \"num_unique_values\": 2,\n        \"samples\": [\n          \"\\u0411\\u044b\\u043b \\u0432\\u043e \\u0432\\u043b\\u0430\\u0434\\u0435\\u043d\\u0438\\u0438 \\u0443 \\u044e\\u0440. \\u043b\\u0438\\u0446\\u0430\"\n        ],\n        \"semantic_type\": \"\",\n        \"description\": \"\"\n      }\n    },\n    {\n      \"column\": \"4\",\n      \"properties\": {\n        \"dtype\": \"category\",\n        \"num_unique_values\": 18,\n        \"samples\": [\n          \"\\u041f\\u043e\\u0441\\u043b\\u0435\\u0434\\u043d\\u0438\\u0439 \\u043f\\u0435\\u0440\\u0438\\u043e\\u0434 \\u0432\\u043b\\u0430\\u0434\\u0435\\u043d\\u0438\\u044f \\u0431\\u043e\\u043b\\u044c\\u0448\\u0435 5 \\u043b\\u0435\\u0442\"\n        ],\n        \"semantic_type\": \"\",\n        \"description\": \"\"\n      }\n    },\n    {\n      \"column\": \"6\",\n      \"properties\": {\n        \"dtype\": \"category\",\n        \"num_unique_values\": 2,\n        \"samples\": [\n          \"\\u0415\\u0441\\u0442\\u044c \\u043e\\u0433\\u0440\\u0430\\u043d\\u0438\\u0447\\u0435\\u043d\\u0438\\u044f\"\n        ],\n        \"semantic_type\": \"\",\n        \"description\": \"\"\n      }\n    },\n    {\n      \"column\": \"\\u0421\\u0441\\u044b\\u043b\\u043a\\u0430\",\n      \"properties\": {\n        \"dtype\": \"string\",\n        \"num_unique_values\": 660,\n        \"samples\": [\n          \"https://auto.drom.ru/moscow/lada/vesta/194715648.html\"\n        ],\n        \"semantic_type\": \"\",\n        \"description\": \"\"\n      }\n    },\n    {\n      \"column\": \"\\u041e\\u0441\\u043e\\u0431\\u044b\\u0435 \\u043e\\u0442\\u043c\\u0435\\u0442\\u043a\\u0438\",\n      \"properties\": {\n        \"dtype\": \"category\",\n        \"num_unique_values\": 3,\n        \"samples\": [\n          \"\\u0442\\u0440\\u0435\\u0431\\u0443\\u0435\\u0442\\u0441\\u044f \\u0440\\u0435\\u043c\\u043e\\u043d\\u0442 \\u0438\\u043b\\u0438 \\u043d\\u0435 \\u043d\\u0430 \\u0445\\u043e\\u0434\\u0443\"\n        ],\n        \"semantic_type\": \"\",\n        \"description\": \"\"\n      }\n    },\n    {\n      \"column\": \"\\u0422\\u043e\\u043f\\u043b\\u0438\\u0432\\u043e \\u0434\\u0432\\u0438\\u0433\\u0430\\u0442\\u0435\\u043b\\u044f\",\n      \"properties\": {\n        \"dtype\": \"category\",\n        \"num_unique_values\": 1,\n        \"samples\": [\n          \"\\u0431\\u0435\\u043d\\u0437\\u0438\\u043d\"\n        ],\n        \"semantic_type\": \"\",\n        \"description\": \"\"\n      }\n    },\n    {\n      \"column\": \"\\u041e\\u0431\\u044a\\u0451\\u043c \\u0434\\u0432\\u0438\\u0433\\u0430\\u0442\\u0435\\u043b\\u044f\",\n      \"properties\": {\n        \"dtype\": \"number\",\n        \"std\": 0.06922927437955027,\n        \"min\": 1.2,\n        \"max\": 1.8,\n        \"num_unique_values\": 6,\n        \"samples\": [\n          1.8\n        ],\n        \"semantic_type\": \"\",\n        \"description\": \"\"\n      }\n    },\n    {\n      \"column\": \"\\u0413\\u043e\\u0434\",\n      \"properties\": {\n        \"dtype\": \"number\",\n        \"std\": 6,\n        \"min\": 1978,\n        \"max\": 2024,\n        \"num_unique_values\": 32,\n        \"samples\": [\n          1998\n        ],\n        \"semantic_type\": \"\",\n        \"description\": \"\"\n      }\n    },\n    {\n      \"column\": \"\\u041d\\u0430\\u0437\\u0432\\u0430\\u043d\\u0438\\u0435 \\u043c\\u0430\\u0448\\u0438\\u043d\\u044b\",\n      \"properties\": {\n        \"dtype\": \"category\",\n        \"num_unique_values\": 13,\n        \"samples\": [\n          \"\\u041b\\u0430\\u0434\\u0430 4x4 \\u0411\\u0440\\u043e\\u043d\\u0442\\u043e\"\n        ],\n        \"semantic_type\": \"\",\n        \"description\": \"\"\n      }\n    }\n  ]\n}"
            }
          },
          "metadata": {},
          "execution_count": 240
        }
      ]
    },
    {
      "cell_type": "code",
      "source": [
        "df.shape"
      ],
      "metadata": {
        "colab": {
          "base_uri": "https://localhost:8080/"
        },
        "id": "dv0r7P5W1JH2",
        "outputId": "20d8fa1c-af20-4359-f296-d7f58a24685b"
      },
      "execution_count": null,
      "outputs": [
        {
          "output_type": "execute_result",
          "data": {
            "text/plain": [
              "(661, 20)"
            ]
          },
          "metadata": {},
          "execution_count": 241
        }
      ]
    },
    {
      "cell_type": "code",
      "source": [
        "df.columns"
      ],
      "metadata": {
        "colab": {
          "base_uri": "https://localhost:8080/"
        },
        "id": "ZiUQ6wDZSu9t",
        "outputId": "4dcfd402-4b88-48e8-b7db-a70be6ff3e8d"
      },
      "execution_count": null,
      "outputs": [
        {
          "output_type": "execute_result",
          "data": {
            "text/plain": [
              "Index(['Мощность', 'Коробка передач', 'Привод', 'Тип кузова', 'Цвет', 'Пробег',\n",
              "       'Руль', 'Цена', '0', '1', '2', '3', '4', '6', 'Ссылка',\n",
              "       'Особые отметки', 'Топливо двигателя', 'Объём двигателя', 'Год',\n",
              "       'Название машины'],\n",
              "      dtype='object')"
            ]
          },
          "metadata": {},
          "execution_count": 242
        }
      ]
    },
    {
      "cell_type": "code",
      "source": [
        "df.isna().sum() # количество нанов в колонках"
      ],
      "metadata": {
        "id": "YBcU9vrcSTbF",
        "colab": {
          "base_uri": "https://localhost:8080/"
        },
        "outputId": "dc02f43f-53b4-44ea-f760-d6ab27ddb3e2"
      },
      "execution_count": null,
      "outputs": [
        {
          "output_type": "execute_result",
          "data": {
            "text/plain": [
              "Мощность               0\n",
              "Коробка передач        0\n",
              "Привод                 0\n",
              "Тип кузова             0\n",
              "Цвет                   0\n",
              "Пробег                 0\n",
              "Руль                   0\n",
              "Цена                   0\n",
              "0                      0\n",
              "1                      0\n",
              "2                      0\n",
              "3                      0\n",
              "4                      0\n",
              "6                      0\n",
              "Ссылка                 0\n",
              "Особые отметки       641\n",
              "Топливо двигателя      0\n",
              "Объём двигателя        0\n",
              "Год                    0\n",
              "Название машины        0\n",
              "dtype: int64"
            ]
          },
          "metadata": {},
          "execution_count": 243
        }
      ]
    },
    {
      "cell_type": "code",
      "source": [
        "df['Коробка передач'].value_counts()"
      ],
      "metadata": {
        "colab": {
          "base_uri": "https://localhost:8080/"
        },
        "id": "_m-Nv0kXyML3",
        "outputId": "05214671-0ce6-4d71-f98a-dd2313371267"
      },
      "execution_count": null,
      "outputs": [
        {
          "output_type": "execute_result",
          "data": {
            "text/plain": [
              "Коробка передач\n",
              "механика    549\n",
              "робот        44\n",
              "вариатор     44\n",
              "АКПП         24\n",
              "Name: count, dtype: int64"
            ]
          },
          "metadata": {},
          "execution_count": 244
        }
      ]
    },
    {
      "cell_type": "code",
      "source": [
        "df = pd.get_dummies(df, columns=['Коробка передач', ], dtype=int)"
      ],
      "metadata": {
        "id": "LBEcOw1I9UX2"
      },
      "execution_count": null,
      "outputs": []
    },
    {
      "cell_type": "code",
      "source": [
        "df['Привод'].value_counts()"
      ],
      "metadata": {
        "colab": {
          "base_uri": "https://localhost:8080/"
        },
        "id": "OLALsWXGyXkV",
        "outputId": "f342f784-1a10-47d6-c1df-aba94775ba87"
      },
      "execution_count": null,
      "outputs": [
        {
          "output_type": "execute_result",
          "data": {
            "text/plain": [
              "Привод\n",
              "передний    619\n",
              "4WD          38\n",
              "задний        4\n",
              "Name: count, dtype: int64"
            ]
          },
          "metadata": {},
          "execution_count": 246
        }
      ]
    },
    {
      "cell_type": "code",
      "source": [
        "df = pd.get_dummies(df, columns=['Привод', ], dtype=int)"
      ],
      "metadata": {
        "id": "JqNaKJk-9XMG"
      },
      "execution_count": null,
      "outputs": []
    },
    {
      "cell_type": "code",
      "source": [
        "df['Тип кузова'].value_counts()"
      ],
      "metadata": {
        "colab": {
          "base_uri": "https://localhost:8080/"
        },
        "id": "oGKqfY3ryXmy",
        "outputId": "4c42ea61-8b9e-457d-b735-0752b3fbe9c8"
      },
      "execution_count": null,
      "outputs": [
        {
          "output_type": "execute_result",
          "data": {
            "text/plain": [
              "Тип кузова\n",
              "седан             261\n",
              "универсал         184\n",
              "хэтчбек 5 дв.     119\n",
              "лифтбек            49\n",
              "джип/suv 3 дв.     31\n",
              "хэтчбек 3 дв.       9\n",
              "джип/suv 5 дв.      7\n",
              "минивэн             1\n",
              "Name: count, dtype: int64"
            ]
          },
          "metadata": {},
          "execution_count": 248
        }
      ]
    },
    {
      "cell_type": "code",
      "source": [
        "df = pd.get_dummies(df, columns=['Тип кузова', ], dtype=int)"
      ],
      "metadata": {
        "id": "rZF7b08j9ZmF"
      },
      "execution_count": null,
      "outputs": []
    },
    {
      "cell_type": "code",
      "source": [
        "df['Цвет'].value_counts()"
      ],
      "metadata": {
        "colab": {
          "base_uri": "https://localhost:8080/"
        },
        "id": "9UHat6dVyXpH",
        "outputId": "8cdd6566-b4e5-4b4d-f396-66a6b4a7189e"
      },
      "execution_count": null,
      "outputs": [
        {
          "output_type": "execute_result",
          "data": {
            "text/plain": [
              "Цвет\n",
              "белый          170\n",
              "черный         115\n",
              "серый           99\n",
              "серебристый     75\n",
              "коричневый      43\n",
              "синий           42\n",
              "красный         36\n",
              "зеленый         29\n",
              "оранжевый       16\n",
              "бежевый         12\n",
              "голубой         11\n",
              "бордовый         9\n",
              "желтый           2\n",
              "фиолетовый       1\n",
              "золотистый       1\n",
              "Name: count, dtype: int64"
            ]
          },
          "metadata": {},
          "execution_count": 250
        }
      ]
    },
    {
      "cell_type": "code",
      "source": [
        "df = pd.get_dummies(df, columns=['Цвет', ], dtype=int)"
      ],
      "metadata": {
        "id": "HlDIMBVR9bmz"
      },
      "execution_count": null,
      "outputs": []
    },
    {
      "cell_type": "code",
      "source": [
        "df['Руль'].value_counts()"
      ],
      "metadata": {
        "colab": {
          "base_uri": "https://localhost:8080/"
        },
        "id": "8enQfmE-ydNM",
        "outputId": "c6935c52-df76-4428-d13b-9cbee8a85e75"
      },
      "execution_count": null,
      "outputs": [
        {
          "output_type": "execute_result",
          "data": {
            "text/plain": [
              "Руль\n",
              "левый    661\n",
              "Name: count, dtype: int64"
            ]
          },
          "metadata": {},
          "execution_count": 252
        }
      ]
    },
    {
      "cell_type": "code",
      "source": [
        "df = df.drop('Руль', axis = 1)"
      ],
      "metadata": {
        "id": "NQ1rIZRp1QEP"
      },
      "execution_count": null,
      "outputs": []
    },
    {
      "cell_type": "code",
      "source": [
        "df['Особые отметки'].value_counts()"
      ],
      "metadata": {
        "colab": {
          "base_uri": "https://localhost:8080/"
        },
        "id": "HEp88N5YydSp",
        "outputId": "f93adda8-9795-4d96-d758-2ffa0d0c7860"
      },
      "execution_count": null,
      "outputs": [
        {
          "output_type": "execute_result",
          "data": {
            "text/plain": [
              "Особые отметки\n",
              "требуется ремонт или не на ходу                                    16\n",
              "документы с проблемами или отсутствуют                              3\n",
              "документы с проблемами, висит небольшой запрет стс ПТС на руках     1\n",
              "Name: count, dtype: int64"
            ]
          },
          "metadata": {},
          "execution_count": 254
        }
      ]
    },
    {
      "cell_type": "code",
      "source": [
        "df = df[df['Особые отметки'].isna()]"
      ],
      "metadata": {
        "id": "tjrGp6mY1jJ7"
      },
      "execution_count": null,
      "outputs": []
    },
    {
      "cell_type": "code",
      "source": [
        "df = df.drop('Особые отметки', axis = 1)"
      ],
      "metadata": {
        "id": "DaGDIAty7sT1"
      },
      "execution_count": null,
      "outputs": []
    },
    {
      "cell_type": "code",
      "source": [
        "df['Топливо двигателя'].value_counts()"
      ],
      "metadata": {
        "colab": {
          "base_uri": "https://localhost:8080/"
        },
        "id": "SHYxhn7iydVP",
        "outputId": "32f0b58e-70c3-4131-8b46-08b378febd35"
      },
      "execution_count": null,
      "outputs": [
        {
          "output_type": "execute_result",
          "data": {
            "text/plain": [
              "Топливо двигателя\n",
              "бензин    641\n",
              "Name: count, dtype: int64"
            ]
          },
          "metadata": {},
          "execution_count": 257
        }
      ]
    },
    {
      "cell_type": "code",
      "source": [
        "df = df.drop('Топливо двигателя', axis = 1)"
      ],
      "metadata": {
        "id": "M5EXDOvZ1a62"
      },
      "execution_count": null,
      "outputs": []
    },
    {
      "cell_type": "code",
      "source": [
        "df['Год'].value_counts()"
      ],
      "metadata": {
        "colab": {
          "base_uri": "https://localhost:8080/"
        },
        "id": "KzHpR6XoydXl",
        "outputId": "0c9f8511-7ebd-4d29-8365-d55fa9bb1392"
      },
      "execution_count": null,
      "outputs": [
        {
          "output_type": "execute_result",
          "data": {
            "text/plain": [
              "Год\n",
              "2021    81\n",
              "2019    65\n",
              "2020    62\n",
              "2018    61\n",
              "2022    52\n",
              "2023    50\n",
              "2017    47\n",
              "2016    32\n",
              "2008    24\n",
              "2007    24\n",
              "2011    20\n",
              "2013    19\n",
              "2014    18\n",
              "2015    16\n",
              "2010    13\n",
              "2012    12\n",
              "2006     8\n",
              "2004     8\n",
              "2009     7\n",
              "2005     5\n",
              "2002     4\n",
              "2003     2\n",
              "1986     2\n",
              "2000     2\n",
              "2024     1\n",
              "1990     1\n",
              "2001     1\n",
              "1999     1\n",
              "1998     1\n",
              "1981     1\n",
              "1978     1\n",
              "Name: count, dtype: int64"
            ]
          },
          "metadata": {},
          "execution_count": 259
        }
      ]
    },
    {
      "cell_type": "code",
      "source": [
        "df['0'].value_counts()"
      ],
      "metadata": {
        "id": "EL0_CFjbydZ-",
        "colab": {
          "base_uri": "https://localhost:8080/"
        },
        "outputId": "eaff4714-18cd-49de-8409-6884f2e2586b"
      },
      "execution_count": null,
      "outputs": [
        {
          "output_type": "execute_result",
          "data": {
            "text/plain": [
              "0\n",
              "Характеристики совпадают с ПТС           604\n",
              "Цвет не совпадает с ПТС                   25\n",
              "Модель не совпадает с ПТС                  8\n",
              "Мощность двигателя не совпадает с ПТС      3\n",
              "Год не совпадает с ПТС                     1\n",
              "Name: count, dtype: int64"
            ]
          },
          "metadata": {},
          "execution_count": 260
        }
      ]
    },
    {
      "cell_type": "code",
      "source": [
        "df = pd.get_dummies(df, columns=['0', ], dtype=int)"
      ],
      "metadata": {
        "id": "EUpCuIPX4H9N"
      },
      "execution_count": null,
      "outputs": []
    },
    {
      "cell_type": "code",
      "source": [
        "df['1'].value_counts()"
      ],
      "metadata": {
        "id": "qIuPgR1UyXrg",
        "colab": {
          "base_uri": "https://localhost:8080/"
        },
        "outputId": "a3ee4cdb-1d92-4968-d6de-0c144cfb6992"
      },
      "execution_count": null,
      "outputs": [
        {
          "output_type": "execute_result",
          "data": {
            "text/plain": [
              "1\n",
              "1 запись о регистрации      316\n",
              "2 записи о регистрации      138\n",
              "3 записи о регистрации       65\n",
              "4 записи о регистрации       36\n",
              "6 записей о регистрации      24\n",
              "5 записей о регистрации      19\n",
              "8 записей о регистрации      14\n",
              "9 записей о регистрации       9\n",
              "10 записей о регистрации      8\n",
              "7 записей о регистрации       8\n",
              "11 записей о регистрации      3\n",
              "12 записей о регистрации      1\n",
              "Name: count, dtype: int64"
            ]
          },
          "metadata": {},
          "execution_count": 262
        }
      ]
    },
    {
      "cell_type": "code",
      "source": [
        "df['1'] = df['1'].apply(lambda x: '1-2 записей о регистрации' if (x == '1 запись о регистрации' or x == '2 записи о регистрации') else ('3-6 записей о регистрации' if (x == '3 записи о регистрации' or x == '4 записи о регистрации' or x == '5 записей о регистрации' or x == '6 записей о регистрации') else 'более 6 записей о регистрации'))\n"
      ],
      "metadata": {
        "id": "mRPG0sRp4hUm"
      },
      "execution_count": null,
      "outputs": []
    },
    {
      "cell_type": "code",
      "source": [
        "df = pd.get_dummies(df, columns=['1', ], dtype=int)"
      ],
      "metadata": {
        "id": "eqocW7Et6MUr"
      },
      "execution_count": null,
      "outputs": []
    },
    {
      "cell_type": "code",
      "source": [
        "df['2'].value_counts()"
      ],
      "metadata": {
        "id": "-xnbhvhIyXt2",
        "colab": {
          "base_uri": "https://localhost:8080/"
        },
        "outputId": "946eb56a-b282-4e5d-e26a-3185517bee37"
      },
      "execution_count": null,
      "outputs": [
        {
          "output_type": "execute_result",
          "data": {
            "text/plain": [
              "2\n",
              "Стоит на учете в ГИБДД       459\n",
              "Не стоит на учете в ГИБДД    182\n",
              "Name: count, dtype: int64"
            ]
          },
          "metadata": {},
          "execution_count": 265
        }
      ]
    },
    {
      "cell_type": "code",
      "source": [
        "df = pd.get_dummies(df, columns=['2', ], dtype=int)"
      ],
      "metadata": {
        "id": "5hey9pHL6T99"
      },
      "execution_count": null,
      "outputs": []
    },
    {
      "cell_type": "code",
      "source": [
        "df['3'].value_counts()"
      ],
      "metadata": {
        "id": "Ag4gbRgFyXwZ",
        "colab": {
          "base_uri": "https://localhost:8080/"
        },
        "outputId": "db7ef881-d7b9-4b35-9459-798364a12fa7"
      },
      "execution_count": null,
      "outputs": [
        {
          "output_type": "execute_result",
          "data": {
            "text/plain": [
              "3\n",
              "Не был во владении у юр. лица    552\n",
              "Был во владении у юр. лица        89\n",
              "Name: count, dtype: int64"
            ]
          },
          "metadata": {},
          "execution_count": 267
        }
      ]
    },
    {
      "cell_type": "code",
      "source": [
        "df = pd.get_dummies(df, columns=['3', ], dtype=int)"
      ],
      "metadata": {
        "id": "151uVkPj6WNE"
      },
      "execution_count": null,
      "outputs": []
    },
    {
      "cell_type": "code",
      "source": [
        "df['4'].value_counts()"
      ],
      "metadata": {
        "id": "ljCGdWCMyXyw",
        "colab": {
          "base_uri": "https://localhost:8080/"
        },
        "outputId": "03292e1a-d089-4aab-9f42-ded800035e65"
      },
      "execution_count": null,
      "outputs": [
        {
          "output_type": "execute_result",
          "data": {
            "text/plain": [
              "4\n",
              "Последний период владения меньше 6 месяцев    124\n",
              "Последний период владения больше 1 года       100\n",
              "Последний период владения больше 3 лет         95\n",
              "Последний период владения больше 6 месяцев     83\n",
              "Последний период владения больше 2 лет         68\n",
              "Последний период владения больше 4 лет         55\n",
              "Последний период владения больше 5 лет         39\n",
              "Последний период владения больше 6 лет         32\n",
              "Последний период владения больше 7 лет         14\n",
              "Последний период владения больше 8 лет         13\n",
              "Последний период владения больше 9 лет          7\n",
              "Последний период владения больше 11 лет         4\n",
              "Последний период владения больше 13 лет         2\n",
              "Последний период владения больше 10 лет         1\n",
              "Последний период владения больше 18 лет         1\n",
              "Последний период владения больше 21 лет         1\n",
              "Последний период владения больше 15 лет         1\n",
              "Последний период владения больше 12 лет         1\n",
              "Name: count, dtype: int64"
            ]
          },
          "metadata": {},
          "execution_count": 269
        }
      ]
    },
    {
      "cell_type": "code",
      "source": [
        "df['4'] = df['4'].apply(lambda x: 'Последний период владения до 1 года' if (x == 'Последний период владения меньше 6 месяцев' or x == 'Последний период владения больше 6 месяцев  ')\n",
        "else ('Последний период владения до 6 лет' if (x == 'Последний период владения больше 1 года' or x == 'Последний период владения больше 2 лет' or x == 'Последний период владения больше 3 лет' or x == 'Последний период владения больше 4 лет' or x == 'Последний период владения больше 5 лет')\n",
        "else 'Последний период владения больше 6 лет'))\n"
      ],
      "metadata": {
        "id": "eoGuWzoZ6ZFC"
      },
      "execution_count": null,
      "outputs": []
    },
    {
      "cell_type": "code",
      "source": [
        "df = pd.get_dummies(df, columns=['4', ], dtype=int)"
      ],
      "metadata": {
        "id": "12Id4g9N7lHa"
      },
      "execution_count": null,
      "outputs": []
    },
    {
      "cell_type": "code",
      "source": [
        "df['6'].value_counts()"
      ],
      "metadata": {
        "id": "ZMf3PILYIBaY",
        "colab": {
          "base_uri": "https://localhost:8080/"
        },
        "outputId": "2f9b5d48-3dbd-444a-ff0c-2c80ecb6d084"
      },
      "execution_count": null,
      "outputs": [
        {
          "output_type": "execute_result",
          "data": {
            "text/plain": [
              "6\n",
              "Ограничений не обнаружено    622\n",
              "Есть ограничения              19\n",
              "Name: count, dtype: int64"
            ]
          },
          "metadata": {},
          "execution_count": 272
        }
      ]
    },
    {
      "cell_type": "code",
      "source": [
        "df = df.drop('6', axis = 1)"
      ],
      "metadata": {
        "id": "Sj-ejpWKyGjq"
      },
      "execution_count": null,
      "outputs": []
    },
    {
      "cell_type": "code",
      "source": [
        "df = df[['Цена',\n",
        "         'Мощность',\n",
        "         'Пробег',\n",
        "         'Объём двигателя',\n",
        "         'Год',\n",
        "         'Коробка передач_АКПП', 'Коробка передач_вариатор','Коробка передач_механика', 'Коробка передач_робот',\n",
        "         'Привод_4WD','Привод_задний', 'Привод_передний',\n",
        "         'Тип кузова_джип/suv 3 дв.', 'Тип кузова_джип/suv 5 дв.', 'Тип кузова_лифтбек', 'Тип кузова_минивэн', 'Тип кузова_седан', 'Тип кузова_универсал', 'Тип кузова_хэтчбек 3 дв.', 'Тип кузова_хэтчбек 5 дв.',\n",
        "         'Цвет_бежевый', 'Цвет_белый', 'Цвет_бордовый', 'Цвет_голубой', 'Цвет_желтый', 'Цвет_зеленый', 'Цвет_золотистый', 'Цвет_коричневый', 'Цвет_красный', 'Цвет_оранжевый', 'Цвет_серебристый', 'Цвет_серый', 'Цвет_синий', 'Цвет_фиолетовый', 'Цвет_черный',\n",
        "         '0_Год не совпадает с ПТС', '0_Модель не совпадает с ПТС','0_Мощность двигателя не совпадает с ПТС', '0_Характеристики совпадают с ПТС', '0_Цвет не совпадает с ПТС',\n",
        "         '1_1-2 записей о регистрации', '1_3-6 записей о регистрации', '1_более 6 записей о регистрации',\n",
        "         '2_Не стоит на учете в ГИБДД', '2_Стоит на учете в ГИБДД',\n",
        "         '3_Был во владении у юр. лица', '3_Не был во владении у юр. лица',\n",
        "         '4_Последний период владения больше 6 лет', '4_Последний период владения до 1 года', '4_Последний период владения до 6 лет',\n",
        "         'Ссылка',\n",
        "         'Название машины']]"
      ],
      "metadata": {
        "id": "-x5exekUyGrE"
      },
      "execution_count": null,
      "outputs": []
    },
    {
      "cell_type": "code",
      "source": [
        "df"
      ],
      "metadata": {
        "colab": {
          "base_uri": "https://localhost:8080/",
          "height": 739
        },
        "id": "mWF-4t3H7nlY",
        "outputId": "3083e178-7803-4c08-d195-6bb739c39bc6"
      },
      "execution_count": null,
      "outputs": [
        {
          "output_type": "execute_result",
          "data": {
            "text/plain": [
              "         Цена  Мощность    Пробег  Объём двигателя   Год  \\\n",
              "0     1350000     122.0   86684.0              1.8  2018   \n",
              "1     1350000     122.0   77400.0              1.8  2019   \n",
              "2      950000      90.0    9200.0              1.6  2023   \n",
              "4     1165000     122.0   84594.0              1.8  2019   \n",
              "7     1145000     122.0   58195.0              1.8  2019   \n",
              "...       ...       ...       ...              ...   ...   \n",
              "1277  1215000     106.0   14214.0              1.6  2023   \n",
              "1279   445000      98.0   94000.0              1.6  2010   \n",
              "1296  1370000     106.0   93010.0              1.6  2021   \n",
              "1310   360000      98.0  237000.0              1.6  2009   \n",
              "1312   760000      82.0   52000.0              1.6  2018   \n",
              "\n",
              "      Коробка передач_АКПП  Коробка передач_вариатор  \\\n",
              "0                        0                         0   \n",
              "1                        0                         0   \n",
              "2                        0                         0   \n",
              "4                        0                         0   \n",
              "7                        0                         0   \n",
              "...                    ...                       ...   \n",
              "1277                     0                         0   \n",
              "1279                     0                         0   \n",
              "1296                     0                         0   \n",
              "1310                     0                         0   \n",
              "1312                     0                         0   \n",
              "\n",
              "      Коробка передач_механика  Коробка передач_робот  Привод_4WD  ...  \\\n",
              "0                            1                      0           0  ...   \n",
              "1                            0                      1           0  ...   \n",
              "2                            1                      0           0  ...   \n",
              "4                            0                      1           0  ...   \n",
              "7                            1                      0           0  ...   \n",
              "...                        ...                    ...         ...  ...   \n",
              "1277                         1                      0           0  ...   \n",
              "1279                         1                      0           0  ...   \n",
              "1296                         1                      0           0  ...   \n",
              "1310                         1                      0           0  ...   \n",
              "1312                         1                      0           0  ...   \n",
              "\n",
              "      1_более 6 записей о регистрации  2_Не стоит на учете в ГИБДД  \\\n",
              "0                                   0                            0   \n",
              "1                                   0                            0   \n",
              "2                                   0                            0   \n",
              "4                                   0                            1   \n",
              "7                                   0                            1   \n",
              "...                               ...                          ...   \n",
              "1277                                0                            1   \n",
              "1279                                0                            1   \n",
              "1296                                0                            1   \n",
              "1310                                1                            0   \n",
              "1312                                0                            1   \n",
              "\n",
              "      2_Стоит на учете в ГИБДД  3_Был во владении у юр. лица  \\\n",
              "0                            1                             0   \n",
              "1                            1                             0   \n",
              "2                            1                             0   \n",
              "4                            0                             1   \n",
              "7                            0                             0   \n",
              "...                        ...                           ...   \n",
              "1277                         0                             0   \n",
              "1279                         0                             0   \n",
              "1296                         0                             1   \n",
              "1310                         1                             0   \n",
              "1312                         0                             0   \n",
              "\n",
              "      3_Не был во владении у юр. лица  \\\n",
              "0                                   1   \n",
              "1                                   1   \n",
              "2                                   1   \n",
              "4                                   0   \n",
              "7                                   1   \n",
              "...                               ...   \n",
              "1277                                1   \n",
              "1279                                1   \n",
              "1296                                0   \n",
              "1310                                1   \n",
              "1312                                1   \n",
              "\n",
              "      4_Последний период владения больше 6 лет  \\\n",
              "0                                            0   \n",
              "1                                            0   \n",
              "2                                            1   \n",
              "4                                            0   \n",
              "7                                            0   \n",
              "...                                        ...   \n",
              "1277                                         0   \n",
              "1279                                         1   \n",
              "1296                                         0   \n",
              "1310                                         1   \n",
              "1312                                         0   \n",
              "\n",
              "      4_Последний период владения до 1 года  \\\n",
              "0                                         0   \n",
              "1                                         0   \n",
              "2                                         0   \n",
              "4                                         0   \n",
              "7                                         0   \n",
              "...                                     ...   \n",
              "1277                                      1   \n",
              "1279                                      0   \n",
              "1296                                      1   \n",
              "1310                                      0   \n",
              "1312                                      0   \n",
              "\n",
              "      4_Последний период владения до 6 лет  \\\n",
              "0                                        1   \n",
              "1                                        1   \n",
              "2                                        0   \n",
              "4                                        1   \n",
              "7                                        1   \n",
              "...                                    ...   \n",
              "1277                                     0   \n",
              "1279                                     0   \n",
              "1296                                     0   \n",
              "1310                                     0   \n",
              "1312                                     1   \n",
              "\n",
              "                                                 Ссылка   Название машины  \n",
              "0     https://auto.drom.ru/moscow/lada/vesta_cross/5...  Лада Веста Кросс  \n",
              "1     https://auto.drom.ru/moscow/lada/vesta/2447192...        Лада Веста  \n",
              "2     https://auto.drom.ru/moscow/lada/granta/290328...       Лада Гранта  \n",
              "4     https://auto.drom.ru/moscow/lada/vesta_cross/9...  Лада Веста Кросс  \n",
              "7     https://auto.drom.ru/moscow/lada/vesta/6242073...        Лада Веста  \n",
              "...                                                 ...               ...  \n",
              "1277  https://auto.drom.ru/moscow/lada/vesta/2393319...        Лада Веста  \n",
              "1279  https://auto.drom.ru/moscow/lada/priora/441343...       Лада Приора  \n",
              "1296  https://auto.drom.ru/moscow/lada/largus/105232...       Лада Ларгус  \n",
              "1310  https://auto.drom.ru/moscow/lada/priora/268769...       Лада Приора  \n",
              "1312  https://auto.drom.ru/moscow/lada/granta/104925...       Лада Гранта  \n",
              "\n",
              "[641 rows x 52 columns]"
            ],
            "text/html": [
              "\n",
              "  <div id=\"df-9b957d94-b361-4f02-991e-b9442a73326b\" class=\"colab-df-container\">\n",
              "    <div>\n",
              "<style scoped>\n",
              "    .dataframe tbody tr th:only-of-type {\n",
              "        vertical-align: middle;\n",
              "    }\n",
              "\n",
              "    .dataframe tbody tr th {\n",
              "        vertical-align: top;\n",
              "    }\n",
              "\n",
              "    .dataframe thead th {\n",
              "        text-align: right;\n",
              "    }\n",
              "</style>\n",
              "<table border=\"1\" class=\"dataframe\">\n",
              "  <thead>\n",
              "    <tr style=\"text-align: right;\">\n",
              "      <th></th>\n",
              "      <th>Цена</th>\n",
              "      <th>Мощность</th>\n",
              "      <th>Пробег</th>\n",
              "      <th>Объём двигателя</th>\n",
              "      <th>Год</th>\n",
              "      <th>Коробка передач_АКПП</th>\n",
              "      <th>Коробка передач_вариатор</th>\n",
              "      <th>Коробка передач_механика</th>\n",
              "      <th>Коробка передач_робот</th>\n",
              "      <th>Привод_4WD</th>\n",
              "      <th>...</th>\n",
              "      <th>1_более 6 записей о регистрации</th>\n",
              "      <th>2_Не стоит на учете в ГИБДД</th>\n",
              "      <th>2_Стоит на учете в ГИБДД</th>\n",
              "      <th>3_Был во владении у юр. лица</th>\n",
              "      <th>3_Не был во владении у юр. лица</th>\n",
              "      <th>4_Последний период владения больше 6 лет</th>\n",
              "      <th>4_Последний период владения до 1 года</th>\n",
              "      <th>4_Последний период владения до 6 лет</th>\n",
              "      <th>Ссылка</th>\n",
              "      <th>Название машины</th>\n",
              "    </tr>\n",
              "  </thead>\n",
              "  <tbody>\n",
              "    <tr>\n",
              "      <th>0</th>\n",
              "      <td>1350000</td>\n",
              "      <td>122.0</td>\n",
              "      <td>86684.0</td>\n",
              "      <td>1.8</td>\n",
              "      <td>2018</td>\n",
              "      <td>0</td>\n",
              "      <td>0</td>\n",
              "      <td>1</td>\n",
              "      <td>0</td>\n",
              "      <td>0</td>\n",
              "      <td>...</td>\n",
              "      <td>0</td>\n",
              "      <td>0</td>\n",
              "      <td>1</td>\n",
              "      <td>0</td>\n",
              "      <td>1</td>\n",
              "      <td>0</td>\n",
              "      <td>0</td>\n",
              "      <td>1</td>\n",
              "      <td>https://auto.drom.ru/moscow/lada/vesta_cross/5...</td>\n",
              "      <td>Лада Веста Кросс</td>\n",
              "    </tr>\n",
              "    <tr>\n",
              "      <th>1</th>\n",
              "      <td>1350000</td>\n",
              "      <td>122.0</td>\n",
              "      <td>77400.0</td>\n",
              "      <td>1.8</td>\n",
              "      <td>2019</td>\n",
              "      <td>0</td>\n",
              "      <td>0</td>\n",
              "      <td>0</td>\n",
              "      <td>1</td>\n",
              "      <td>0</td>\n",
              "      <td>...</td>\n",
              "      <td>0</td>\n",
              "      <td>0</td>\n",
              "      <td>1</td>\n",
              "      <td>0</td>\n",
              "      <td>1</td>\n",
              "      <td>0</td>\n",
              "      <td>0</td>\n",
              "      <td>1</td>\n",
              "      <td>https://auto.drom.ru/moscow/lada/vesta/2447192...</td>\n",
              "      <td>Лада Веста</td>\n",
              "    </tr>\n",
              "    <tr>\n",
              "      <th>2</th>\n",
              "      <td>950000</td>\n",
              "      <td>90.0</td>\n",
              "      <td>9200.0</td>\n",
              "      <td>1.6</td>\n",
              "      <td>2023</td>\n",
              "      <td>0</td>\n",
              "      <td>0</td>\n",
              "      <td>1</td>\n",
              "      <td>0</td>\n",
              "      <td>0</td>\n",
              "      <td>...</td>\n",
              "      <td>0</td>\n",
              "      <td>0</td>\n",
              "      <td>1</td>\n",
              "      <td>0</td>\n",
              "      <td>1</td>\n",
              "      <td>1</td>\n",
              "      <td>0</td>\n",
              "      <td>0</td>\n",
              "      <td>https://auto.drom.ru/moscow/lada/granta/290328...</td>\n",
              "      <td>Лада Гранта</td>\n",
              "    </tr>\n",
              "    <tr>\n",
              "      <th>4</th>\n",
              "      <td>1165000</td>\n",
              "      <td>122.0</td>\n",
              "      <td>84594.0</td>\n",
              "      <td>1.8</td>\n",
              "      <td>2019</td>\n",
              "      <td>0</td>\n",
              "      <td>0</td>\n",
              "      <td>0</td>\n",
              "      <td>1</td>\n",
              "      <td>0</td>\n",
              "      <td>...</td>\n",
              "      <td>0</td>\n",
              "      <td>1</td>\n",
              "      <td>0</td>\n",
              "      <td>1</td>\n",
              "      <td>0</td>\n",
              "      <td>0</td>\n",
              "      <td>0</td>\n",
              "      <td>1</td>\n",
              "      <td>https://auto.drom.ru/moscow/lada/vesta_cross/9...</td>\n",
              "      <td>Лада Веста Кросс</td>\n",
              "    </tr>\n",
              "    <tr>\n",
              "      <th>7</th>\n",
              "      <td>1145000</td>\n",
              "      <td>122.0</td>\n",
              "      <td>58195.0</td>\n",
              "      <td>1.8</td>\n",
              "      <td>2019</td>\n",
              "      <td>0</td>\n",
              "      <td>0</td>\n",
              "      <td>1</td>\n",
              "      <td>0</td>\n",
              "      <td>0</td>\n",
              "      <td>...</td>\n",
              "      <td>0</td>\n",
              "      <td>1</td>\n",
              "      <td>0</td>\n",
              "      <td>0</td>\n",
              "      <td>1</td>\n",
              "      <td>0</td>\n",
              "      <td>0</td>\n",
              "      <td>1</td>\n",
              "      <td>https://auto.drom.ru/moscow/lada/vesta/6242073...</td>\n",
              "      <td>Лада Веста</td>\n",
              "    </tr>\n",
              "    <tr>\n",
              "      <th>...</th>\n",
              "      <td>...</td>\n",
              "      <td>...</td>\n",
              "      <td>...</td>\n",
              "      <td>...</td>\n",
              "      <td>...</td>\n",
              "      <td>...</td>\n",
              "      <td>...</td>\n",
              "      <td>...</td>\n",
              "      <td>...</td>\n",
              "      <td>...</td>\n",
              "      <td>...</td>\n",
              "      <td>...</td>\n",
              "      <td>...</td>\n",
              "      <td>...</td>\n",
              "      <td>...</td>\n",
              "      <td>...</td>\n",
              "      <td>...</td>\n",
              "      <td>...</td>\n",
              "      <td>...</td>\n",
              "      <td>...</td>\n",
              "      <td>...</td>\n",
              "    </tr>\n",
              "    <tr>\n",
              "      <th>1277</th>\n",
              "      <td>1215000</td>\n",
              "      <td>106.0</td>\n",
              "      <td>14214.0</td>\n",
              "      <td>1.6</td>\n",
              "      <td>2023</td>\n",
              "      <td>0</td>\n",
              "      <td>0</td>\n",
              "      <td>1</td>\n",
              "      <td>0</td>\n",
              "      <td>0</td>\n",
              "      <td>...</td>\n",
              "      <td>0</td>\n",
              "      <td>1</td>\n",
              "      <td>0</td>\n",
              "      <td>0</td>\n",
              "      <td>1</td>\n",
              "      <td>0</td>\n",
              "      <td>1</td>\n",
              "      <td>0</td>\n",
              "      <td>https://auto.drom.ru/moscow/lada/vesta/2393319...</td>\n",
              "      <td>Лада Веста</td>\n",
              "    </tr>\n",
              "    <tr>\n",
              "      <th>1279</th>\n",
              "      <td>445000</td>\n",
              "      <td>98.0</td>\n",
              "      <td>94000.0</td>\n",
              "      <td>1.6</td>\n",
              "      <td>2010</td>\n",
              "      <td>0</td>\n",
              "      <td>0</td>\n",
              "      <td>1</td>\n",
              "      <td>0</td>\n",
              "      <td>0</td>\n",
              "      <td>...</td>\n",
              "      <td>0</td>\n",
              "      <td>1</td>\n",
              "      <td>0</td>\n",
              "      <td>0</td>\n",
              "      <td>1</td>\n",
              "      <td>1</td>\n",
              "      <td>0</td>\n",
              "      <td>0</td>\n",
              "      <td>https://auto.drom.ru/moscow/lada/priora/441343...</td>\n",
              "      <td>Лада Приора</td>\n",
              "    </tr>\n",
              "    <tr>\n",
              "      <th>1296</th>\n",
              "      <td>1370000</td>\n",
              "      <td>106.0</td>\n",
              "      <td>93010.0</td>\n",
              "      <td>1.6</td>\n",
              "      <td>2021</td>\n",
              "      <td>0</td>\n",
              "      <td>0</td>\n",
              "      <td>1</td>\n",
              "      <td>0</td>\n",
              "      <td>0</td>\n",
              "      <td>...</td>\n",
              "      <td>0</td>\n",
              "      <td>1</td>\n",
              "      <td>0</td>\n",
              "      <td>1</td>\n",
              "      <td>0</td>\n",
              "      <td>0</td>\n",
              "      <td>1</td>\n",
              "      <td>0</td>\n",
              "      <td>https://auto.drom.ru/moscow/lada/largus/105232...</td>\n",
              "      <td>Лада Ларгус</td>\n",
              "    </tr>\n",
              "    <tr>\n",
              "      <th>1310</th>\n",
              "      <td>360000</td>\n",
              "      <td>98.0</td>\n",
              "      <td>237000.0</td>\n",
              "      <td>1.6</td>\n",
              "      <td>2009</td>\n",
              "      <td>0</td>\n",
              "      <td>0</td>\n",
              "      <td>1</td>\n",
              "      <td>0</td>\n",
              "      <td>0</td>\n",
              "      <td>...</td>\n",
              "      <td>1</td>\n",
              "      <td>0</td>\n",
              "      <td>1</td>\n",
              "      <td>0</td>\n",
              "      <td>1</td>\n",
              "      <td>1</td>\n",
              "      <td>0</td>\n",
              "      <td>0</td>\n",
              "      <td>https://auto.drom.ru/moscow/lada/priora/268769...</td>\n",
              "      <td>Лада Приора</td>\n",
              "    </tr>\n",
              "    <tr>\n",
              "      <th>1312</th>\n",
              "      <td>760000</td>\n",
              "      <td>82.0</td>\n",
              "      <td>52000.0</td>\n",
              "      <td>1.6</td>\n",
              "      <td>2018</td>\n",
              "      <td>0</td>\n",
              "      <td>0</td>\n",
              "      <td>1</td>\n",
              "      <td>0</td>\n",
              "      <td>0</td>\n",
              "      <td>...</td>\n",
              "      <td>0</td>\n",
              "      <td>1</td>\n",
              "      <td>0</td>\n",
              "      <td>0</td>\n",
              "      <td>1</td>\n",
              "      <td>0</td>\n",
              "      <td>0</td>\n",
              "      <td>1</td>\n",
              "      <td>https://auto.drom.ru/moscow/lada/granta/104925...</td>\n",
              "      <td>Лада Гранта</td>\n",
              "    </tr>\n",
              "  </tbody>\n",
              "</table>\n",
              "<p>641 rows × 52 columns</p>\n",
              "</div>\n",
              "    <div class=\"colab-df-buttons\">\n",
              "\n",
              "  <div class=\"colab-df-container\">\n",
              "    <button class=\"colab-df-convert\" onclick=\"convertToInteractive('df-9b957d94-b361-4f02-991e-b9442a73326b')\"\n",
              "            title=\"Convert this dataframe to an interactive table.\"\n",
              "            style=\"display:none;\">\n",
              "\n",
              "  <svg xmlns=\"http://www.w3.org/2000/svg\" height=\"24px\" viewBox=\"0 -960 960 960\">\n",
              "    <path d=\"M120-120v-720h720v720H120Zm60-500h600v-160H180v160Zm220 220h160v-160H400v160Zm0 220h160v-160H400v160ZM180-400h160v-160H180v160Zm440 0h160v-160H620v160ZM180-180h160v-160H180v160Zm440 0h160v-160H620v160Z\"/>\n",
              "  </svg>\n",
              "    </button>\n",
              "\n",
              "  <style>\n",
              "    .colab-df-container {\n",
              "      display:flex;\n",
              "      gap: 12px;\n",
              "    }\n",
              "\n",
              "    .colab-df-convert {\n",
              "      background-color: #E8F0FE;\n",
              "      border: none;\n",
              "      border-radius: 50%;\n",
              "      cursor: pointer;\n",
              "      display: none;\n",
              "      fill: #1967D2;\n",
              "      height: 32px;\n",
              "      padding: 0 0 0 0;\n",
              "      width: 32px;\n",
              "    }\n",
              "\n",
              "    .colab-df-convert:hover {\n",
              "      background-color: #E2EBFA;\n",
              "      box-shadow: 0px 1px 2px rgba(60, 64, 67, 0.3), 0px 1px 3px 1px rgba(60, 64, 67, 0.15);\n",
              "      fill: #174EA6;\n",
              "    }\n",
              "\n",
              "    .colab-df-buttons div {\n",
              "      margin-bottom: 4px;\n",
              "    }\n",
              "\n",
              "    [theme=dark] .colab-df-convert {\n",
              "      background-color: #3B4455;\n",
              "      fill: #D2E3FC;\n",
              "    }\n",
              "\n",
              "    [theme=dark] .colab-df-convert:hover {\n",
              "      background-color: #434B5C;\n",
              "      box-shadow: 0px 1px 3px 1px rgba(0, 0, 0, 0.15);\n",
              "      filter: drop-shadow(0px 1px 2px rgba(0, 0, 0, 0.3));\n",
              "      fill: #FFFFFF;\n",
              "    }\n",
              "  </style>\n",
              "\n",
              "    <script>\n",
              "      const buttonEl =\n",
              "        document.querySelector('#df-9b957d94-b361-4f02-991e-b9442a73326b button.colab-df-convert');\n",
              "      buttonEl.style.display =\n",
              "        google.colab.kernel.accessAllowed ? 'block' : 'none';\n",
              "\n",
              "      async function convertToInteractive(key) {\n",
              "        const element = document.querySelector('#df-9b957d94-b361-4f02-991e-b9442a73326b');\n",
              "        const dataTable =\n",
              "          await google.colab.kernel.invokeFunction('convertToInteractive',\n",
              "                                                    [key], {});\n",
              "        if (!dataTable) return;\n",
              "\n",
              "        const docLinkHtml = 'Like what you see? Visit the ' +\n",
              "          '<a target=\"_blank\" href=https://colab.research.google.com/notebooks/data_table.ipynb>data table notebook</a>'\n",
              "          + ' to learn more about interactive tables.';\n",
              "        element.innerHTML = '';\n",
              "        dataTable['output_type'] = 'display_data';\n",
              "        await google.colab.output.renderOutput(dataTable, element);\n",
              "        const docLink = document.createElement('div');\n",
              "        docLink.innerHTML = docLinkHtml;\n",
              "        element.appendChild(docLink);\n",
              "      }\n",
              "    </script>\n",
              "  </div>\n",
              "\n",
              "\n",
              "<div id=\"df-fd8df558-fcfb-4181-8b69-4242b3f75e5f\">\n",
              "  <button class=\"colab-df-quickchart\" onclick=\"quickchart('df-fd8df558-fcfb-4181-8b69-4242b3f75e5f')\"\n",
              "            title=\"Suggest charts\"\n",
              "            style=\"display:none;\">\n",
              "\n",
              "<svg xmlns=\"http://www.w3.org/2000/svg\" height=\"24px\"viewBox=\"0 0 24 24\"\n",
              "     width=\"24px\">\n",
              "    <g>\n",
              "        <path d=\"M19 3H5c-1.1 0-2 .9-2 2v14c0 1.1.9 2 2 2h14c1.1 0 2-.9 2-2V5c0-1.1-.9-2-2-2zM9 17H7v-7h2v7zm4 0h-2V7h2v10zm4 0h-2v-4h2v4z\"/>\n",
              "    </g>\n",
              "</svg>\n",
              "  </button>\n",
              "\n",
              "<style>\n",
              "  .colab-df-quickchart {\n",
              "      --bg-color: #E8F0FE;\n",
              "      --fill-color: #1967D2;\n",
              "      --hover-bg-color: #E2EBFA;\n",
              "      --hover-fill-color: #174EA6;\n",
              "      --disabled-fill-color: #AAA;\n",
              "      --disabled-bg-color: #DDD;\n",
              "  }\n",
              "\n",
              "  [theme=dark] .colab-df-quickchart {\n",
              "      --bg-color: #3B4455;\n",
              "      --fill-color: #D2E3FC;\n",
              "      --hover-bg-color: #434B5C;\n",
              "      --hover-fill-color: #FFFFFF;\n",
              "      --disabled-bg-color: #3B4455;\n",
              "      --disabled-fill-color: #666;\n",
              "  }\n",
              "\n",
              "  .colab-df-quickchart {\n",
              "    background-color: var(--bg-color);\n",
              "    border: none;\n",
              "    border-radius: 50%;\n",
              "    cursor: pointer;\n",
              "    display: none;\n",
              "    fill: var(--fill-color);\n",
              "    height: 32px;\n",
              "    padding: 0;\n",
              "    width: 32px;\n",
              "  }\n",
              "\n",
              "  .colab-df-quickchart:hover {\n",
              "    background-color: var(--hover-bg-color);\n",
              "    box-shadow: 0 1px 2px rgba(60, 64, 67, 0.3), 0 1px 3px 1px rgba(60, 64, 67, 0.15);\n",
              "    fill: var(--button-hover-fill-color);\n",
              "  }\n",
              "\n",
              "  .colab-df-quickchart-complete:disabled,\n",
              "  .colab-df-quickchart-complete:disabled:hover {\n",
              "    background-color: var(--disabled-bg-color);\n",
              "    fill: var(--disabled-fill-color);\n",
              "    box-shadow: none;\n",
              "  }\n",
              "\n",
              "  .colab-df-spinner {\n",
              "    border: 2px solid var(--fill-color);\n",
              "    border-color: transparent;\n",
              "    border-bottom-color: var(--fill-color);\n",
              "    animation:\n",
              "      spin 1s steps(1) infinite;\n",
              "  }\n",
              "\n",
              "  @keyframes spin {\n",
              "    0% {\n",
              "      border-color: transparent;\n",
              "      border-bottom-color: var(--fill-color);\n",
              "      border-left-color: var(--fill-color);\n",
              "    }\n",
              "    20% {\n",
              "      border-color: transparent;\n",
              "      border-left-color: var(--fill-color);\n",
              "      border-top-color: var(--fill-color);\n",
              "    }\n",
              "    30% {\n",
              "      border-color: transparent;\n",
              "      border-left-color: var(--fill-color);\n",
              "      border-top-color: var(--fill-color);\n",
              "      border-right-color: var(--fill-color);\n",
              "    }\n",
              "    40% {\n",
              "      border-color: transparent;\n",
              "      border-right-color: var(--fill-color);\n",
              "      border-top-color: var(--fill-color);\n",
              "    }\n",
              "    60% {\n",
              "      border-color: transparent;\n",
              "      border-right-color: var(--fill-color);\n",
              "    }\n",
              "    80% {\n",
              "      border-color: transparent;\n",
              "      border-right-color: var(--fill-color);\n",
              "      border-bottom-color: var(--fill-color);\n",
              "    }\n",
              "    90% {\n",
              "      border-color: transparent;\n",
              "      border-bottom-color: var(--fill-color);\n",
              "    }\n",
              "  }\n",
              "</style>\n",
              "\n",
              "  <script>\n",
              "    async function quickchart(key) {\n",
              "      const quickchartButtonEl =\n",
              "        document.querySelector('#' + key + ' button');\n",
              "      quickchartButtonEl.disabled = true;  // To prevent multiple clicks.\n",
              "      quickchartButtonEl.classList.add('colab-df-spinner');\n",
              "      try {\n",
              "        const charts = await google.colab.kernel.invokeFunction(\n",
              "            'suggestCharts', [key], {});\n",
              "      } catch (error) {\n",
              "        console.error('Error during call to suggestCharts:', error);\n",
              "      }\n",
              "      quickchartButtonEl.classList.remove('colab-df-spinner');\n",
              "      quickchartButtonEl.classList.add('colab-df-quickchart-complete');\n",
              "    }\n",
              "    (() => {\n",
              "      let quickchartButtonEl =\n",
              "        document.querySelector('#df-fd8df558-fcfb-4181-8b69-4242b3f75e5f button');\n",
              "      quickchartButtonEl.style.display =\n",
              "        google.colab.kernel.accessAllowed ? 'block' : 'none';\n",
              "    })();\n",
              "  </script>\n",
              "</div>\n",
              "    </div>\n",
              "  </div>\n"
            ],
            "application/vnd.google.colaboratory.intrinsic+json": {
              "type": "dataframe",
              "variable_name": "df"
            }
          },
          "metadata": {},
          "execution_count": 275
        }
      ]
    },
    {
      "cell_type": "code",
      "source": [
        "df.to_csv('table_proekt_ready.csv')"
      ],
      "metadata": {
        "id": "VWT2HKxe8oii"
      },
      "execution_count": null,
      "outputs": []
    },
    {
      "cell_type": "code",
      "source": [],
      "metadata": {
        "id": "jyaH5pQC_aMq"
      },
      "execution_count": null,
      "outputs": []
    },
    {
      "cell_type": "code",
      "source": [],
      "metadata": {
        "id": "V80FZsYp_aRZ"
      },
      "execution_count": null,
      "outputs": []
    },
    {
      "cell_type": "code",
      "source": [],
      "metadata": {
        "id": "Tn4Fo1zZ_aTf"
      },
      "execution_count": null,
      "outputs": []
    }
  ]
}